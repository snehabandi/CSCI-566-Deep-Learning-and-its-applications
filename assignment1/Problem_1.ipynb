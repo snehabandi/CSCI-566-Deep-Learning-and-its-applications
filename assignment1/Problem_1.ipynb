{
 "cells": [
  {
   "cell_type": "markdown",
   "metadata": {},
   "source": [
    "# Problem 1: Basics of Neural Networks\n",
    "* <b>Learning Objective:</b> In this problem, you are asked to implement a basic multi-layer fully connected neural network from scratch, including forward and backward passes of certain essential layers, to perform an image classification task on the CIFAR100 dataset. You need to implement essential functions in different indicated python files under directory `lib`.\n",
    "* <b>Provided Code:</b> We provide the skeletons of classes you need to complete. Forward checking and gradient checkings are provided for verifying your implementation as well.\n",
    "* <b>TODOs:</b> You are asked to implement the forward passes and backward passes for standard layers and loss functions, various widely-used optimizers, and part of the training procedure. And finally we want you to train a network from scratch on your own. Also, there are inline questions you need to answer. See `README.md` to set up your environment."
   ]
  },
  {
   "cell_type": "code",
   "execution_count": 1,
   "metadata": {},
   "outputs": [],
   "source": [
    "from lib.mlp.fully_conn import *\n",
    "from lib.mlp.layer_utils import *\n",
    "from lib.datasets import *\n",
    "from lib.mlp.train import *\n",
    "from lib.grad_check import *\n",
    "from lib.optim import *\n",
    "import numpy as np\n",
    "import matplotlib.pyplot as plt\n",
    "\n",
    "%matplotlib inline\n",
    "plt.rcParams['figure.figsize'] = (10.0, 8.0) # set default size of plots\n",
    "plt.rcParams['image.interpolation'] = 'nearest'\n",
    "plt.rcParams['image.cmap'] = 'gray'\n",
    "\n",
    "# for auto-reloading external modules\n",
    "# see http://stackoverflow.com/questions/1907993/autoreload-of-modules-in-ipython\n",
    "%load_ext autoreload\n",
    "%autoreload 2"
   ]
  },
  {
   "cell_type": "markdown",
   "metadata": {},
   "source": [
    "## Loading the data (CIFAR-100 with 20 superclasses)\n",
    "\n",
    "In this homework, we will be classifying images from the CIFAR-100 dataset into the 20 superclasses. More information about the CIFAR-100 dataset and the 20 superclasses can be found [here](https://www.cs.toronto.edu/~kriz/cifar.html).\n",
    "\n",
    "Download the CIFAR-100 data files [here](https://drive.google.com/drive/folders/1imXxTnpkMbWEe41pkAGNt_JMTXECDSaW?usp=share_link), and save the `.mat` files to the `data/cifar100` directory."
   ]
  },
  {
   "cell_type": "markdown",
   "metadata": {},
   "source": [
    "Load the dataset."
   ]
  },
  {
   "cell_type": "code",
   "execution_count": 2,
   "metadata": {},
   "outputs": [
    {
     "name": "stdout",
     "output_type": "stream",
     "text": [
      "Name: data_train Shape: (40000, 32, 32, 3), <class 'numpy.ndarray'>\n",
      "Name: labels_train Shape: (40000,), <class 'numpy.ndarray'>\n",
      "Name: data_val Shape: (10000, 32, 32, 3), <class 'numpy.ndarray'>\n",
      "Name: labels_val Shape: (10000,), <class 'numpy.ndarray'>\n",
      "Name: data_test Shape: (10000, 32, 32, 3), <class 'numpy.ndarray'>\n",
      "Name: labels_test Shape: (10000,), <class 'numpy.ndarray'>\n",
      "label_names: ['aquatic_mammals', 'fish', 'flowers', 'food_containers', 'fruit_and_vegetables', 'household_electrical_devices', 'household_furniture', 'insects', 'large_carnivores', 'large_man-made_outdoor_things', 'large_natural_outdoor_scenes', 'large_omnivores_and_herbivores', 'medium_mammals', 'non-insect_invertebrates', 'people', 'reptiles', 'small_mammals', 'trees', 'vehicles_1', 'vehicles_2']\n",
      "Name: mean_image Shape: (1, 1, 1, 3), <class 'numpy.ndarray'>\n",
      "Name: std_image Shape: (1, 1, 1, 3), <class 'numpy.ndarray'>\n"
     ]
    }
   ],
   "source": [
    "data = CIFAR100_data('data/cifar100/')\n",
    "for k, v in data.items():\n",
    "    if type(v) == np.ndarray:\n",
    "        print (\"Name: {} Shape: {}, {}\".format(k, v.shape, type(v)))\n",
    "    else:\n",
    "        print(\"{}: {}\".format(k, v))\n",
    "label_names = data['label_names']\n",
    "mean_image = data['mean_image'][0]\n",
    "std_image = data['std_image'][0]"
   ]
  },
  {
   "cell_type": "markdown",
   "metadata": {},
   "source": [
    "## Implement Standard Layers\n",
    "You will now implement all the following standard layers commonly seen in a fully connected neural network (aka multi-layer perceptron, MLP). Please refer to the file `lib/mlp/layer_utils.py`. Take a look at each class skeleton, and we will walk you through the network layer by layer. We provide results of some examples we pre-computed for you for checking the forward pass, and also the gradient checking for the backward pass."
   ]
  },
  {
   "cell_type": "markdown",
   "metadata": {},
   "source": [
    "## FC Forward [2pt]\n",
    "In the class skeleton `flatten` and `fc` in `lib/mlp/layer_utils.py`, please complete the forward pass in function `forward`. The input to the `fc` layer may not be of dimension (batch size, features size), it could be an image or any higher dimensional data. We want to convert the input to have a shape of (batch size, features size). Make sure that you handle this dimensionality issue. "
   ]
  },
  {
   "cell_type": "code",
   "execution_count": 3,
   "metadata": {},
   "outputs": [
    {
     "name": "stdout",
     "output_type": "stream",
     "text": [
      "Difference:  4.02601593296122e-09\n"
     ]
    }
   ],
   "source": [
    "%reload_ext autoreload\n",
    "\n",
    "# Test the fc forward function\n",
    "input_bz = 3 # batch size\n",
    "input_dim = (7, 6, 4)\n",
    "output_dim = 4\n",
    "\n",
    "input_size = input_bz * np.prod(input_dim)\n",
    "weight_size = output_dim * np.prod(input_dim)\n",
    "\n",
    "flatten_layer = flatten(name=\"flatten_test\")\n",
    "single_fc = fc(np.prod(input_dim), output_dim, init_scale=0.02, name=\"fc_test\")\n",
    "\n",
    "x = np.linspace(-0.1, 0.4, num=input_size).reshape(input_bz, *input_dim)\n",
    "w = np.linspace(-0.2, 0.2, num=weight_size).reshape(np.prod(input_dim), output_dim)\n",
    "b = np.linspace(-0.3, 0.3, num=output_dim)\n",
    "\n",
    "single_fc.params[single_fc.w_name] = w\n",
    "single_fc.params[single_fc.b_name] = b\n",
    "\n",
    "out = single_fc.forward(flatten_layer.forward(x))\n",
    "\n",
    "correct_out = np.array([[0.63910291, 0.83740057, 1.03569824, 1.23399591],\n",
    "                        [0.61401587, 0.82903823, 1.04406058, 1.25908294],\n",
    "                        [0.58892884, 0.82067589, 1.05242293, 1.28416997]])\n",
    "\n",
    "# Compare your output with the above pre-computed ones. \n",
    "# The difference should not be larger than 1e-8\n",
    "print (\"Difference: \", rel_error(out, correct_out))"
   ]
  },
  {
   "cell_type": "code",
   "execution_count": 4,
   "metadata": {},
   "outputs": [],
   "source": [
    "#REMOVE\n",
    "# print(x.shape,w.shape,b.shape, out.shape)\n",
    "# p = flatten_layer.forward(x)\n",
    "# q = np.vectorize(lambda x : x)\n",
    "# print(q(p).shape)\n",
    "# print(np.dot(w.T,q(p)).shape)"
   ]
  },
  {
   "cell_type": "markdown",
   "metadata": {},
   "source": [
    "## FC Backward [2pt]\n",
    "Please complete the function `backward` as the backward pass of the `flatten` and `fc` layers. Follow the instructions in the comments to store gradients into the predefined dictionaries in the attributes of the class. Parameters of the layer are also stored in the predefined dictionary."
   ]
  },
  {
   "cell_type": "code",
   "execution_count": 5,
   "metadata": {},
   "outputs": [
    {
     "name": "stdout",
     "output_type": "stream",
     "text": [
      "dx Error:  3.6400031043911565e-09\n",
      "dw Error:  4.0274568221082673e-10\n",
      "db Error:  6.747580410242694e-11\n",
      "dinp Shape:  (15, 2, 2, 3) (15, 2, 2, 3)\n"
     ]
    }
   ],
   "source": [
    "%reload_ext autoreload\n",
    "\n",
    "# Test the fc backward function\n",
    "inp = np.random.randn(15, 2, 2, 3)\n",
    "w = np.random.randn(12, 15)\n",
    "b = np.random.randn(15)\n",
    "dout = np.random.randn(15, 15)\n",
    "\n",
    "flatten_layer = flatten(name=\"flatten_test\")\n",
    "x = flatten_layer.forward(inp)\n",
    "single_fc = fc(np.prod(x.shape[1:]), 15, init_scale=5e-2, name=\"fc_test\")\n",
    "single_fc.params[single_fc.w_name] = w\n",
    "single_fc.params[single_fc.b_name] = b\n",
    "\n",
    "dx_num = eval_numerical_gradient_array(lambda x: single_fc.forward(x), x, dout)\n",
    "dw_num = eval_numerical_gradient_array(lambda w: single_fc.forward(x), w, dout)\n",
    "db_num = eval_numerical_gradient_array(lambda b: single_fc.forward(x), b, dout)\n",
    "\n",
    "out = single_fc.forward(x)\n",
    "dx = single_fc.backward(dout)\n",
    "dw = single_fc.grads[single_fc.w_name]\n",
    "db = single_fc.grads[single_fc.b_name]\n",
    "dinp = flatten_layer.backward(dx)\n",
    "\n",
    "# The error should be around 1e-9\n",
    "print(\"dx Error: \", rel_error(dx_num, dx))\n",
    "# The errors should be around 1e-10\n",
    "print(\"dw Error: \", rel_error(dw_num, dw))\n",
    "print(\"db Error: \", rel_error(db_num, db))\n",
    "# The shapes should be same\n",
    "print(\"dinp Shape: \", dinp.shape, inp.shape)"
   ]
  },
  {
   "cell_type": "code",
   "execution_count": 6,
   "metadata": {},
   "outputs": [],
   "source": [
    "# #REMOVE LATER\n",
    "# x, dprev = out, dout\n",
    "\n",
    "# dx = np.dot(dprev, w.T)\n",
    "# dw = np.dot(out.T, dprev)\n",
    "# db = np.sum(dprev, axis=0)\n",
    "\n",
    "# print(x.shape, dprev.shape)\n",
    "# print(x.reshape(dprev.shape[0],-1).shape)"
   ]
  },
  {
   "cell_type": "markdown",
   "metadata": {},
   "source": [
    "## GeLU Forward [2pt]\n",
    "In the class skeleton `gelu` in `lib/mlp/layer_utils.py`, please complete the `forward` pass.\n",
    "\n",
    "GeLU is a smooth version of ReLU and it's used in pre-training LLMs such as GPT-3 and BERT. \n",
    "\n",
    "$$\n",
    "\\mathrm{GeLU}(x) = x \\Phi(x) \\approx 0.5x(1+\\tanh(\\sqrt{2/\\pi}(x+0.044715x^3)))\n",
    "$$\n",
    "\n",
    "Where $\\Phi(x)$ is the CDF for standard Gaussian random variables.  You should use the approximate version to compute forward and backward pass."
   ]
  },
  {
   "cell_type": "code",
   "execution_count": 7,
   "metadata": {},
   "outputs": [
    {
     "name": "stdout",
     "output_type": "stream",
     "text": [
      "Difference:  1.8037541876132445e-08\n"
     ]
    }
   ],
   "source": [
    "%reload_ext autoreload\n",
    "\n",
    "# Test the leaky_relu forward function\n",
    "x = np.linspace(-1.5, 1.5, num=12).reshape(3, 4)\n",
    "gelu_f = gelu(name=\"gelu_f\")\n",
    " \n",
    "out = gelu_f.forward(x)\n",
    "correct_out = np.array([[-0.10042842, -0.13504766, -0.16231757, -0.1689214 ],\n",
    "                        [-0.13960493, -0.06078651,  0.07557713,  0.26948598],\n",
    "                        [ 0.51289678,  0.79222788,  1.09222506,  1.39957158]])\n",
    "\n",
    "# Compare your output with the above pre-computed ones. \n",
    "# The difference should not be larger than 1e-7\n",
    "print (\"Difference: \", rel_error(out, correct_out))"
   ]
  },
  {
   "cell_type": "code",
   "execution_count": 8,
   "metadata": {},
   "outputs": [
    {
     "data": {
      "text/plain": [
       "array([[-0.10042842, -0.13504766, -0.16231757, -0.1689214 ],\n",
       "       [-0.13960493, -0.06078651,  0.07557713,  0.26948598],\n",
       "       [ 0.51289678,  0.79222788,  1.09222506,  1.39957158]])"
      ]
     },
     "execution_count": 8,
     "metadata": {},
     "output_type": "execute_result"
    }
   ],
   "source": [
    "#REMOVE LATER\n",
    "m = 0.5 * x * (1 + np.tanh(np.sqrt(2 / np.pi) *(x + 0.044715 * np.power(x, 3))))\n",
    "m"
   ]
  },
  {
   "cell_type": "markdown",
   "metadata": {},
   "source": [
    "## GeLU Backward [2pt]\n",
    "Please complete the `backward` pass of the class `gelu`. "
   ]
  },
  {
   "cell_type": "code",
   "execution_count": 9,
   "metadata": {},
   "outputs": [
    {
     "name": "stdout",
     "output_type": "stream",
     "text": [
      "dx Error:  9.155618377606901e-10\n"
     ]
    }
   ],
   "source": [
    "%reload_ext autoreload\n",
    "\n",
    "# Test the relu backward function\n",
    "x = np.random.randn(15, 15)\n",
    "dout = np.random.randn(*x.shape)\n",
    "gelu_b = gelu(name=\"gelu_b\")\n",
    "\n",
    "dx_num = eval_numerical_gradient_array(lambda x: gelu_b.forward(x), x, dout)\n",
    "\n",
    "out = gelu_b.forward(x)\n",
    "dx = gelu_b.backward(dout)\n",
    "\n",
    "# The error should not be larger than 1e-4, since we are using an approximate version of GeLU activation. \n",
    "print (\"dx Error: \", rel_error(dx_num, dx))"
   ]
  },
  {
   "cell_type": "code",
   "execution_count": 10,
   "metadata": {},
   "outputs": [
    {
     "name": "stdout",
     "output_type": "stream",
     "text": [
      "(15, 15) (15, 15) (15, 15) (15, 15)\n",
      "(15, 15) (15, 15) (15, 15)\n",
      "[ 0.86681009  0.84764584 -1.26944143  0.07689572 -0.50802157  2.74309875\n",
      "  0.18373144 -0.39511351 -0.54848451  1.23922502 -0.67192374  0.68527143\n",
      " -0.01967683  0.09851876  0.55084601] [ 0.98383514  0.02166846 -1.41944657  0.08639382 -0.52593372  2.92639079\n",
      "  0.18003989 -0.34849314 -0.37014062  1.41189533  0.20627917 -0.14799454\n",
      "  0.00540911  0.11179262  0.55281413]\n"
     ]
    }
   ],
   "source": [
    "# #REMOVE LATER\n",
    "x, dprev = out, dout\n",
    "\n",
    "a = 0.5 * (1 + np.tanh(np.sqrt(2 / np.pi) * (x + 0.044715 * np.power(x, 3))))\n",
    "b = np.cosh(np.sqrt(2 / np.pi) * (x + 0.044715 * np.power(x, 3)))\n",
    "binv = 1/b\n",
    "c = x*(1 + 3*0.044715 * np.power(x, 2))\n",
    "derivative =  (np.power(binv,2) * c)/np.sqrt(2*np.pi) + a\n",
    "dfeat = (dprev * derivative)\n",
    "\n",
    "# print (\"dx Error: \", rel_error(dx_num, dx))\n",
    "print(a.shape, b.shape, binv.shape, c.shape)\n",
    "print(dprev.shape,derivative.shape, dx_num.shape)\n",
    "print(dfeat[0],dx_num[0])"
   ]
  },
  {
   "cell_type": "markdown",
   "metadata": {},
   "source": [
    "## Dropout Forward [2pt]\n",
    "In the class `dropout` in `lib/mlp/layer_utils.py`, please complete the `forward` pass.  \n",
    "Remember that the dropout is **only applied during training phase**, you should pay attention to this while implementing the function.\n",
    "##### Important Note1: The probability argument input to the function is the \"keep probability\": probability that each activation is kept.\n",
    "##### Important Note2: If the keep_prob is set to 1, make it as no dropout."
   ]
  },
  {
   "cell_type": "code",
   "execution_count": 11,
   "metadata": {},
   "outputs": [
    {
     "name": "stdout",
     "output_type": "stream",
     "text": [
      "----------------------------------------------------------------\n",
      "Dropout Keep Prob =  0\n",
      "Mean of input:  4.978586231409696\n",
      "Mean of output during training time:  4.978586231409696\n",
      "Mean of output during testing time:  4.978586231409696\n",
      "Fraction of output set to zero during training time:  0.0\n",
      "Fraction of output set to zero during testing time:  0.0\n",
      "----------------------------------------------------------------\n",
      "Dropout Keep Prob =  0.25\n",
      "Mean of input:  4.978586231409696\n",
      "Mean of output during training time:  5.151336364345049\n",
      "Mean of output during testing time:  4.978586231409696\n",
      "Fraction of output set to zero during training time:  0.7417\n",
      "Fraction of output set to zero during testing time:  0.0\n",
      "----------------------------------------------------------------\n",
      "Dropout Keep Prob =  0.5\n",
      "Mean of input:  4.978586231409696\n",
      "Mean of output during training time:  5.058131211362833\n",
      "Mean of output during testing time:  4.978586231409696\n",
      "Fraction of output set to zero during training time:  0.4943\n",
      "Fraction of output set to zero during testing time:  0.0\n",
      "----------------------------------------------------------------\n",
      "Dropout Keep Prob =  0.75\n",
      "Mean of input:  4.978586231409696\n",
      "Mean of output during training time:  4.96299957630882\n",
      "Mean of output during testing time:  4.978586231409696\n",
      "Fraction of output set to zero during training time:  0.2517\n",
      "Fraction of output set to zero during testing time:  0.0\n",
      "----------------------------------------------------------------\n",
      "Dropout Keep Prob =  1\n",
      "Mean of input:  4.978586231409696\n",
      "Mean of output during training time:  4.978586231409696\n",
      "Mean of output during testing time:  4.978586231409696\n",
      "Fraction of output set to zero during training time:  0.0\n",
      "Fraction of output set to zero during testing time:  0.0\n",
      "----------------------------------------------------------------\n"
     ]
    }
   ],
   "source": [
    "%reload_ext autoreload\n",
    "\n",
    "x = np.random.randn(100, 100) + 5.0\n",
    "\n",
    "print (\"----------------------------------------------------------------\")\n",
    "for p in [0, 0.25, 0.50, 0.75, 1]:\n",
    "    dropout_f = dropout(keep_prob=p)\n",
    "    out = dropout_f.forward(x, True)\n",
    "    out_test = dropout_f.forward(x, False)\n",
    "\n",
    "    # Mean of output should be similar to mean of input\n",
    "    # Means of output during training time and testing time should be similar\n",
    "    print (\"Dropout Keep Prob = \", p)\n",
    "    print (\"Mean of input: \", x.mean())\n",
    "    print (\"Mean of output during training time: \", out.mean())\n",
    "    print (\"Mean of output during testing time: \", out_test.mean())\n",
    "    print (\"Fraction of output set to zero during training time: \", (out == 0).mean())\n",
    "    print (\"Fraction of output set to zero during testing time: \", (out_test == 0).mean())\n",
    "    print (\"----------------------------------------------------------------\")"
   ]
  },
  {
   "cell_type": "code",
   "execution_count": 12,
   "metadata": {},
   "outputs": [
    {
     "name": "stdout",
     "output_type": "stream",
     "text": [
      "(5, 5)\n",
      "[[5.94522247 6.13889376 3.17146817 6.36423181 4.65396518]\n",
      " [4.7004534  3.9598056  3.95571259 6.36466367 4.1743487 ]\n",
      " [5.86792025 4.49060395 5.02294132 3.33339406 4.06446344]\n",
      " [5.69599211 5.4445139  7.18015538 6.71550318 5.17237827]\n",
      " [5.35364654 3.31807357 3.78163036 5.08283091 5.65189758]] \n",
      "\n",
      "***\n",
      "\n",
      "\n",
      "[[0.74259653 0.6299931  0.03071739 0.96375146 0.1975359 ]\n",
      " [0.96803117 0.49985212 0.89098489 0.98885445 0.75948342]\n",
      " [0.58433138 0.34348413 0.49509552 0.74076183 0.95253597]\n",
      " [0.08634581 0.32352674 0.60484209 0.65706592 0.45168174]\n",
      " [0.41203125 0.66525686 0.29469086 0.77531258 0.43372377]] \n",
      "\n",
      "***\n",
      "\n",
      "\n",
      "[[False False  True False  True]\n",
      " [False False False False False]\n",
      " [False False False False False]\n",
      " [ True False False False False]\n",
      " [False False False False False]] \n",
      "\n",
      "***\n",
      "\n",
      "\n",
      "[[0. 0. 4. 0. 4.]\n",
      " [0. 0. 0. 0. 0.]\n",
      " [0. 0. 0. 0. 0.]\n",
      " [4. 0. 0. 0. 0.]\n",
      " [0. 0. 0. 0. 0.]]\n",
      "[[ 0.          0.         12.68587266  0.         18.61586071]\n",
      " [ 0.          0.          0.          0.          0.        ]\n",
      " [ 0.          0.          0.          0.          0.        ]\n",
      " [22.78396846  0.          0.          0.          0.        ]\n",
      " [ 0.          0.          0.          0.          0.        ]]\n",
      "Dropout Keep Prob =  0.25\n",
      "Mean of input:  5.024188407044462\n",
      "Mean of output during training time:  2.1634280734722626\n",
      "Mean of output during testing time:  4.978586231409696\n"
     ]
    }
   ],
   "source": [
    "# Remove Later ->tester code\n",
    "x = np.random.randn(5, 5) + 5.0\n",
    "\n",
    "p, is_training = 0.25, True\n",
    "rng = np.random.RandomState(seed=None)\n",
    "\n",
    "print(x.shape)\n",
    "print(x,'\\n\\n***\\n\\n')\n",
    "see = rng.rand(*x.shape)\n",
    "print(see,'\\n\\n***\\n\\n')\n",
    "print(see<p,'\\n\\n***\\n\\n')\n",
    "print((see<p)/p)\n",
    "\n",
    "if is_training == True and p>0 and p<1:          \n",
    "    mask = (see < p) / p\n",
    "    out = x * mask\n",
    "    print(out)\n",
    "#Test Phase : mask = None, kept = input\n",
    "else:    \n",
    "    out_test = x\n",
    "    print(out_test)\n",
    "print (\"Dropout Keep Prob = \", p)\n",
    "print (\"Mean of input: \", x.mean())\n",
    "print (\"Mean of output during training time: \", out.mean())\n",
    "print (\"Mean of output during testing time: \", out_test.mean())"
   ]
  },
  {
   "cell_type": "markdown",
   "metadata": {},
   "source": [
    "## Dropout Backward [2pt]\n",
    "Please complete the `backward` pass. Again remember that the dropout is only applied during training phase, handle this in the backward pass as well."
   ]
  },
  {
   "cell_type": "code",
   "execution_count": 13,
   "metadata": {},
   "outputs": [
    {
     "name": "stdout",
     "output_type": "stream",
     "text": [
      "dx relative error:  3.003115711868424e-11\n"
     ]
    }
   ],
   "source": [
    "%reload_ext autoreload\n",
    "\n",
    "x = np.random.randn(5, 5) + 5\n",
    "dout = np.random.randn(*x.shape)\n",
    "\n",
    "keep_prob = 0.75\n",
    "dropout_b = dropout(keep_prob, seed=100)\n",
    "out = dropout_b.forward(x, True, seed=1)\n",
    "dx = dropout_b.backward(dout)\n",
    "dx_num = eval_numerical_gradient_array(lambda xx: dropout_b.forward(xx, True, seed=1), x, dout)\n",
    "\n",
    "# The error should not be larger than 1e-10\n",
    "print ('dx relative error: ', rel_error(dx, dx_num))"
   ]
  },
  {
   "cell_type": "code",
   "execution_count": 14,
   "metadata": {},
   "outputs": [
    {
     "name": "stdout",
     "output_type": "stream",
     "text": [
      "(5, 5)\n",
      "[[ 0.16521457 -0.06928663 -0.42532866  0.30371946 -0.72734045]\n",
      " [ 1.86017785  0.07330684 -0.69510586 -1.2752528  -0.18587725]\n",
      " [ 0.85059223 -1.27687724  0.76691414  1.62254228  0.07479543]\n",
      " [ 0.59958216 -0.17342926 -0.61274522  0.6708616  -0.42399826]\n",
      " [-1.18572511  0.12151672  0.8648055   0.08190942  0.39673626]] \n",
      "\n",
      "***\n",
      "\n",
      "\n",
      "[[1.33333333 1.33333333 1.33333333 1.33333333 1.33333333]\n",
      " [1.33333333 1.33333333 1.33333333 1.33333333 1.33333333]\n",
      " [1.33333333 1.33333333 1.33333333 0.         1.33333333]\n",
      " [1.33333333 1.33333333 1.33333333 1.33333333 1.33333333]\n",
      " [0.         0.         1.33333333 1.33333333 0.        ]] \n",
      "\n",
      "***\n",
      "\n",
      "\n",
      "[[ 0.2202861  -0.09238218 -0.56710488  0.40495929 -0.96978727]\n",
      " [ 2.48023713  0.09774245 -0.92680781 -1.70033706 -0.24783633]\n",
      " [ 1.13412297 -1.70250299  1.02255219  0.          0.09972724]\n",
      " [ 0.79944288 -0.23123901 -0.81699362  0.89448214 -0.56533102]\n",
      " [-0.          0.          1.153074    0.10921256  0.        ]]\n",
      "dx relative error:  3.003116679315532e-11\n"
     ]
    }
   ],
   "source": [
    "# Remove Later ->Dropout Backward tester code\n",
    "x = np.random.randn(5, 5) + 5\n",
    "dout = np.random.randn(*x.shape)\n",
    "keep_prob = 0.75\n",
    "dropout_b = dropout(keep_prob, seed=100)\n",
    "out = dropout_b.forward(x, True, seed=1)\n",
    "\n",
    "p,dprev, is_training = keep_prob,dout, True\n",
    "rng = np.random.RandomState(seed=None)\n",
    "\n",
    "mask = out/x\n",
    "\n",
    "print(dprev.shape)\n",
    "print(dprev,'\\n\\n***\\n\\n')\n",
    "print(mask,'\\n\\n***\\n\\n')\n",
    "\n",
    "if is_training == True and p>0 and p<1:\n",
    "    dfeat = dprev * mask\n",
    "else:\n",
    "    dfeat = dprev\n",
    "\n",
    "dx = dfeat\n",
    "print(dx)\n",
    "\n",
    "dx_num = eval_numerical_gradient_array(lambda xx: dropout_b.forward(xx, True, seed=1), x, dout)\n",
    "\n",
    "# The error should not be larger than 1e-10\n",
    "print ('dx relative error: ', rel_error(dx, dx_num))"
   ]
  },
  {
   "cell_type": "markdown",
   "metadata": {},
   "source": [
    "## Testing cascaded layers: FC + GeLU [2pt]\n",
    "Please find the `TestFCGeLU` function in `lib/mlp/fully_conn.py`. <br />\n",
    "You only need to complete a few lines of code in the TODO block. <br />\n",
    "Please design an `Flatten -> FC -> GeLU` network where the parameters of them match the given x, w, and b. <br />\n",
    "Please insert the corresponding names you defined for each layer to param_name_w, and param_name_b respectively. Here you only modify the param_name part, the `_w`, and `_b` are automatically assigned during network setup "
   ]
  },
  {
   "cell_type": "code",
   "execution_count": 15,
   "metadata": {},
   "outputs": [
    {
     "name": "stdout",
     "output_type": "stream",
     "text": [
      "dx error:  8.355578090311344e-10\n",
      "dw error:  2.0294001439670866e-10\n",
      "db error:  3.0802021224842033e-11\n"
     ]
    }
   ],
   "source": [
    "%reload_ext autoreload\n",
    "\n",
    "x = np.random.randn(3, 5, 3)  # the input features\n",
    "w = np.random.randn(15, 5)   # the weight of fc layer\n",
    "b = np.random.randn(5)       # the bias of fc layer\n",
    "dout = np.random.randn(3, 5) # the gradients to the output, notice the shape\n",
    "\n",
    "tiny_net = TestFCGeLU()\n",
    "\n",
    "###################################################\n",
    "# TODO: param_name should be replaced accordingly #\n",
    "###################################################\n",
    "tiny_net.net.assign(\"fc_w\", w)\n",
    "tiny_net.net.assign(\"fc_b\", b)\n",
    "###################################################\n",
    "#                END OF YOUR CODE                 #\n",
    "###################################################\n",
    "\n",
    "out = tiny_net.forward(x)\n",
    "dx = tiny_net.backward(dout)\n",
    "\n",
    "###################################################\n",
    "# TODO: param_name should be replaced accordingly #\n",
    "###################################################\n",
    "dw = tiny_net.net.get_grads(\"fc_w\")\n",
    "db = tiny_net.net.get_grads(\"fc_b\")\n",
    "###################################################\n",
    "#                END OF YOUR CODE                 #\n",
    "###################################################\n",
    "\n",
    "dx_num = eval_numerical_gradient_array(lambda x: tiny_net.forward(x), x, dout)\n",
    "dw_num = eval_numerical_gradient_array(lambda w: tiny_net.forward(x), w, dout)\n",
    "db_num = eval_numerical_gradient_array(lambda b: tiny_net.forward(x), b, dout)\n",
    "\n",
    "# The errors should not be larger than 1e-7\n",
    "print (\"dx error: \", rel_error(dx_num, dx))\n",
    "print (\"dw error: \", rel_error(dw_num, dw))\n",
    "print (\"db error: \", rel_error(db_num, db))"
   ]
  },
  {
   "cell_type": "markdown",
   "metadata": {},
   "source": [
    "## SoftMax Function and Loss Layer [2pt]\n",
    "In the `lib/mlp/layer_utils.py`, please first complete the function `softmax`, which will be used in the function `cross_entropy`. Then, implement `corss_entropy` using `softmax`.\n",
    "Please refer to the lecture slides of the mathematical expressions of the cross entropy loss function, and complete its forward pass and backward pass. You should also take care of `size_average` on whether or not to divide by the batch size."
   ]
  },
  {
   "cell_type": "code",
   "execution_count": 16,
   "metadata": {},
   "outputs": [
    {
     "name": "stdout",
     "output_type": "stream",
     "text": [
      "Cross Entropy Loss:  1.791817114324856\n",
      "dx error:  6.180929681183048e-09\n"
     ]
    }
   ],
   "source": [
    "%reload_ext autoreload\n",
    "\n",
    "num_classes, num_inputs = 6, 100\n",
    "x = 0.001 * np.random.randn(num_inputs, num_classes)\n",
    "y = np.random.randint(num_classes, size=num_inputs)\n",
    "\n",
    "test_loss = cross_entropy()\n",
    "\n",
    "dx_num = eval_numerical_gradient(lambda x: test_loss.forward(x, y), x, verbose=False)\n",
    "\n",
    "loss = test_loss.forward(x, y)\n",
    "dx = test_loss.backward()\n",
    "\n",
    "# Test softmax_loss function. Loss should be around 1.792\n",
    "# and dx error should be at the scale of 1e-8 (or smaller)\n",
    "print (\"Cross Entropy Loss: \", loss)\n",
    "print (\"dx error: \", rel_error(dx_num, dx))"
   ]
  },
  {
   "cell_type": "markdown",
   "metadata": {},
   "source": [
    "## Test a Small Fully Connected Network [2pt]\n",
    "Please find the `SmallFullyConnectedNetwork` function in `lib/mlp/fully_conn.py`. <br />\n",
    "Again you only need to complete few lines of code in the TODO block. <br />\n",
    "Please design an `FC --> GeLU --> FC` network where the shapes of parameters match the given shapes. <br />\n",
    "Please insert the corresponding names you defined for each layer to param_name_w, and param_name_b respectively. <br />\n",
    "Here you only modify the param_name part, the `_w`, and `_b` are automatically assigned during network setup. "
   ]
  },
  {
   "cell_type": "code",
   "execution_count": 17,
   "metadata": {},
   "outputs": [
    {
     "name": "stdout",
     "output_type": "stream",
     "text": [
      "Testing initialization ... \n",
      "Passed!\n",
      "Testing test-time forward pass ... \n",
      "Passed!\n",
      "Testing the loss ...\n",
      "Passed!\n",
      "Testing the gradients (error should be no larger than 1e-6) ...\n",
      "fc1_b relative error: 5.94e-09\n",
      "fc1_w relative error: 1.06e-08\n",
      "fc2_b relative error: 4.01e-10\n",
      "fc2_w relative error: 2.50e-08\n"
     ]
    }
   ],
   "source": [
    "%reload_ext autoreload\n",
    "\n",
    "seed = 1234\n",
    "np.random.seed(seed=seed)\n",
    "\n",
    "model = SmallFullyConnectedNetwork()\n",
    "loss_func = cross_entropy()\n",
    "\n",
    "N, D, = 4, 4  # N: batch size, D: input dimension\n",
    "H, C  = 30, 7 # H: hidden dimension, C: output dimension\n",
    "std = 0.02\n",
    "x = np.random.randn(N, D)\n",
    "y = np.random.randint(C, size=N)\n",
    "\n",
    "print (\"Testing initialization ... \")\n",
    "\n",
    "###################################################\n",
    "# TODO: param_name should be replaced accordingly  #\n",
    "###################################################\n",
    "w1_std = abs(model.net.get_params(\"fc1_w\").std() - std)\n",
    "b1 = model.net.get_params(\"fc1_b\").std()\n",
    "w2_std = abs(model.net.get_params(\"fc2_w\").std() - std)\n",
    "b2 = model.net.get_params(\"fc2_b\").std()\n",
    "###################################################\n",
    "#                END OF YOUR CODE                 #\n",
    "###################################################\n",
    "\n",
    "assert w1_std < std / 10, \"First layer weights do not seem right\"\n",
    "assert np.all(b1 == 0), \"First layer biases do not seem right\"\n",
    "assert w2_std < std / 10, \"Second layer weights do not seem right\"\n",
    "assert np.all(b2 == 0), \"Second layer biases do not seem right\"\n",
    "print (\"Passed!\")\n",
    "\n",
    "print (\"Testing test-time forward pass ... \")\n",
    "w1 = np.linspace(-0.7, 0.3, num=D*H).reshape(D, H)\n",
    "w2 = np.linspace(-0.2, 0.2, num=H*C).reshape(H, C)\n",
    "b1 = np.linspace(-0.6, 0.2, num=H)\n",
    "b2 = np.linspace(-0.9, 0.1, num=C)\n",
    "\n",
    "###################################################\n",
    "# TODO: param_name should be replaced accordingly  #\n",
    "###################################################\n",
    "model.net.assign(\"fc1_w\", w1)\n",
    "model.net.assign(\"fc1_b\", b1)\n",
    "model.net.assign(\"fc2_w\", w2)\n",
    "model.net.assign(\"fc2_b\", b2)\n",
    "###################################################\n",
    "#                END OF YOUR CODE                 #\n",
    "###################################################\n",
    "\n",
    "feats = np.linspace(-5.5, 4.5, num=N*D).reshape(D, N).T\n",
    "scores = model.forward(feats)\n",
    "correct_scores = np.asarray([[-2.33881897, -1.92174121, -1.50466344, -1.08758567, -0.6705079, -0.25343013,  0.16364763],\n",
    "                             [-1.57214916, -1.1857013 , -0.79925345, -0.41280559, -0.02635774, 0.36009011,  0.74653797],\n",
    "                             [-0.80178618, -0.44604469, -0.0903032 ,  0.26543829,  0.62117977, 0.97692126,  1.33266275],\n",
    "                             [-0.00331319,  0.32124836,  0.64580991,  0.97037146,  1.29493301, 1.61949456,  1.94405611]])\n",
    "scores_diff = np.sum(np.abs(scores - correct_scores))\n",
    "assert scores_diff < 1e-6, \"Your implementation might be wrong!\"\n",
    "print (\"Passed!\")\n",
    "\n",
    "print (\"Testing the loss ...\",)\n",
    "y = np.asarray([0, 5, 1, 4])\n",
    "loss = loss_func.forward(scores, y)\n",
    "dLoss = loss_func.backward()\n",
    "correct_loss = 2.4248995879903195\n",
    "assert abs(loss - correct_loss) < 1e-10, \"Your implementation might be wrong!\"\n",
    "print (\"Passed!\")\n",
    "\n",
    "print (\"Testing the gradients (error should be no larger than 1e-6) ...\")\n",
    "din = model.backward(dLoss)\n",
    "for layer in model.net.layers:\n",
    "    if not layer.params:\n",
    "        continue\n",
    "    for name in sorted(layer.grads):\n",
    "        f = lambda _: loss_func.forward(model.forward(feats), y)\n",
    "        grad_num = eval_numerical_gradient(f, layer.params[name], verbose=False)\n",
    "        print ('%s relative error: %.2e' % (name, rel_error(grad_num, layer.grads[name])))"
   ]
  },
  {
   "cell_type": "markdown",
   "metadata": {},
   "source": [
    "## Test a Fully Connected Network regularized with Dropout [2pt]\n",
    "Please find the `DropoutNet` function in `fully_conn.py` under `lib/mlp` directory. <br />\n",
    "For this part you don't need to design a new network, just simply run the following test code. <br />\n",
    "If something goes wrong, you might want to double check your dropout implementation."
   ]
  },
  {
   "cell_type": "code",
   "execution_count": 18,
   "metadata": {},
   "outputs": [
    {
     "name": "stdout",
     "output_type": "stream",
     "text": [
      "Dropout p = 0\n",
      "Error of gradients should be around or less than 1e-3\n",
      "fc1_b relative error: 9.824168615238225e-08\n",
      "fc1_w relative error: 4.70635574719171e-06\n",
      "fc2_b relative error: 1.1334029457022126e-08\n",
      "fc2_w relative error: 3.167223146070301e-05\n",
      "fc3_b relative error: 2.0518174276833617e-10\n",
      "fc3_w relative error: 2.720304740415546e-06\n",
      "\n",
      "Dropout p = 0.25\n",
      "Error of gradients should be around or less than 1e-3\n",
      "fc1_b relative error: 1.8949591872374903e-07\n",
      "fc1_w relative error: 3.4287142973862415e-06\n",
      "fc2_b relative error: 1.6435766065275814e-07\n",
      "fc2_w relative error: 4.52072681731756e-05\n",
      "fc3_b relative error: 2.1474160887299336e-10\n",
      "fc3_w relative error: 7.9382903586546e-07\n",
      "\n",
      "Dropout p = 0.5\n",
      "Error of gradients should be around or less than 1e-3\n",
      "fc1_b relative error: 3.613140832277011e-07\n",
      "fc1_w relative error: 4.60442874211552e-07\n",
      "fc2_b relative error: 1.7902142291542414e-08\n",
      "fc2_w relative error: 7.923786508162106e-06\n",
      "fc3_b relative error: 3.285178756580047e-10\n",
      "fc3_w relative error: 1.103448593805289e-05\n",
      "\n"
     ]
    }
   ],
   "source": [
    "%reload_ext autoreload\n",
    "\n",
    "seed = 1234\n",
    "np.random.seed(seed=seed)\n",
    "\n",
    "N, D, C = 3, 15, 10\n",
    "X = np.random.randn(N, D)\n",
    "y = np.random.randint(C, size=(N,))\n",
    "\n",
    "for keep_prob in [0, 0.25, 0.5]:\n",
    "    np.random.seed(seed=seed)\n",
    "    print (\"Dropout p =\", keep_prob)\n",
    "    model = DropoutNet(keep_prob=keep_prob, seed=seed)\n",
    "    loss_func = cross_entropy()\n",
    "    output = model.forward(X, True, seed=seed)\n",
    "    loss = loss_func.forward(output, y)\n",
    "    dLoss = loss_func.backward()\n",
    "    dX = model.backward(dLoss)\n",
    "    grads = model.net.grads\n",
    "\n",
    "    print (\"Error of gradients should be around or less than 1e-3\")\n",
    "    for name in sorted(grads):\n",
    "        if name not in model.net.params.keys():\n",
    "            continue\n",
    "        f = lambda _: loss_func.forward(model.forward(X, True, seed=seed), y)\n",
    "        grad_num = eval_numerical_gradient(f, model.net.params[name], verbose=False, h=1e-5)\n",
    "        print (\"{} relative error: {}\".format(name, rel_error(grad_num, grads[name])))\n",
    "    print ()"
   ]
  },
  {
   "cell_type": "markdown",
   "metadata": {},
   "source": [
    "## Training a Network\n",
    "In this section, we defined a `TinyNet` class for you to fill in the TODO block in `lib/mlp/fully_conn.py`.\n",
    "* Here please design a two layer fully connected network with Leaky ReLU activation (`Flatten --> FC --> GeLU --> FC`).\n",
    "* You can adjust the number of hidden neurons, batch_size, epochs, and learning rate decay parameters.\n",
    "* Please read the `lib/train.py` carefully and complete the TODO blocks in the `train_net` function first. Codes in \"Test a Small Fully Connected Network\" can be helpful.\n",
    "* Implement SGD in `lib/optim.py`, you will be asked to complete weight decay and Adam in the later sections."
   ]
  },
  {
   "cell_type": "code",
   "execution_count": 19,
   "metadata": {},
   "outputs": [],
   "source": [
    "# Arrange the data\n",
    "data_dict = {\n",
    "    \"data_train\": (data[\"data_train\"], data[\"labels_train\"]),\n",
    "    \"data_val\": (data[\"data_val\"], data[\"labels_val\"]),\n",
    "    \"data_test\": (data[\"data_test\"], data[\"labels_test\"])\n",
    "}"
   ]
  },
  {
   "cell_type": "code",
   "execution_count": 20,
   "metadata": {},
   "outputs": [
    {
     "name": "stdout",
     "output_type": "stream",
     "text": [
      "Data shape: (40000, 32, 32, 3)\n",
      "Flattened data input size: 3072\n",
      "Number of data classes: 20\n"
     ]
    }
   ],
   "source": [
    "print(\"Data shape:\", data[\"data_train\"].shape)\n",
    "print(\"Flattened data input size:\", np.prod(data[\"data_train\"].shape[1:]))\n",
    "print(\"Number of data classes:\", max(data['labels_train']) + 1)"
   ]
  },
  {
   "cell_type": "markdown",
   "metadata": {},
   "source": [
    "### Now train the network to achieve at least 30% validation accuracy [5pt]\n",
    "You may only adjust the hyperparameters inside the TODO block"
   ]
  },
  {
   "cell_type": "code",
   "execution_count": 21,
   "metadata": {},
   "outputs": [],
   "source": [
    "%autoreload"
   ]
  },
  {
   "cell_type": "code",
   "execution_count": 29,
   "metadata": {},
   "outputs": [
    {
     "name": "stderr",
     "output_type": "stream",
     "text": [
      "  0%|▏                                                                                 | 1/400 [00:02<18:28,  2.78s/it]"
     ]
    },
    {
     "name": "stdout",
     "output_type": "stream",
     "text": [
      "(Iteration 1 / 2000) Average loss: 2.997345440512727\n"
     ]
    },
    {
     "name": "stderr",
     "output_type": "stream",
     "text": [
      "100%|████████████████████████████████████████████████████████████████████████████████| 400/400 [19:24<00:00,  2.91s/it]\n"
     ]
    },
    {
     "name": "stdout",
     "output_type": "stream",
     "text": [
      "(Epoch 1 / 5) Training Accuracy: 0.29, Validation Accuracy: 0.3\n"
     ]
    },
    {
     "name": "stderr",
     "output_type": "stream",
     "text": [
      "100%|████████████████████████████████████████████████████████████████████████████████| 400/400 [21:56<00:00,  3.29s/it]\n"
     ]
    },
    {
     "name": "stdout",
     "output_type": "stream",
     "text": [
      "(Epoch 2 / 5) Training Accuracy: 0.33, Validation Accuracy: 0.3\n"
     ]
    },
    {
     "name": "stderr",
     "output_type": "stream",
     "text": [
      "100%|████████████████████████████████████████████████████████████████████████████████| 400/400 [19:26<00:00,  2.92s/it]\n"
     ]
    },
    {
     "name": "stdout",
     "output_type": "stream",
     "text": [
      "(Epoch 3 / 5) Training Accuracy: 0.43, Validation Accuracy: 0.24\n"
     ]
    },
    {
     "name": "stderr",
     "output_type": "stream",
     "text": [
      "100%|████████████████████████████████████████████████████████████████████████████████| 400/400 [17:51<00:00,  2.68s/it]\n"
     ]
    },
    {
     "name": "stdout",
     "output_type": "stream",
     "text": [
      "(Epoch 4 / 5) Training Accuracy: 0.3, Validation Accuracy: 0.28\n"
     ]
    },
    {
     "name": "stderr",
     "output_type": "stream",
     "text": [
      "100%|████████████████████████████████████████████████████████████████████████████████| 400/400 [18:08<00:00,  2.72s/it]\n"
     ]
    },
    {
     "name": "stdout",
     "output_type": "stream",
     "text": [
      "(Epoch 5 / 5) Training Accuracy: 0.45, Validation Accuracy: 0.34\n"
     ]
    }
   ],
   "source": [
    "%reload_ext autoreload\n",
    "\n",
    "seed = 123\n",
    "np.random.seed(seed=seed)\n",
    "\n",
    "model = TinyNet()\n",
    "loss_f = cross_entropy()\n",
    "optimizer = SGD(model.net, 0.1)\n",
    "\n",
    "results = None\n",
    "#############################################################################\n",
    "# TODO: Use the train_net function you completed to train a network         #\n",
    "#############################################################################\n",
    "\n",
    "batch_size = 100\n",
    "epochs = 5\n",
    "lr_decay = 0.99\n",
    "lr_decay_every = 100\n",
    "\n",
    "#############################################################################\n",
    "#                             END OF YOUR CODE                              #\n",
    "#############################################################################\n",
    "results = train_net(data_dict, model, loss_f, optimizer, batch_size, epochs,\n",
    "                    lr_decay, lr_decay_every, show_every=10000, verbose=True)\n",
    "opt_params, loss_hist, train_acc_hist, val_acc_hist = results"
   ]
  },
  {
   "cell_type": "code",
   "execution_count": 31,
   "metadata": {
    "scrolled": false
   },
   "outputs": [],
   "source": [
    "# print(opt_params, loss_hist, train_acc_hist, val_acc_hist)"
   ]
  },
  {
   "cell_type": "code",
   "execution_count": 32,
   "metadata": {},
   "outputs": [
    {
     "name": "stdout",
     "output_type": "stream",
     "text": [
      "dict_keys(['fc1_w', 'fc1_b', 'fc2_w', 'fc2_b'])\n"
     ]
    }
   ],
   "source": [
    "# Take a look at what names of params were stored\n",
    "print (opt_params.keys())"
   ]
  },
  {
   "cell_type": "code",
   "execution_count": 33,
   "metadata": {},
   "outputs": [
    {
     "name": "stdout",
     "output_type": "stream",
     "text": [
      "Loading Params: fc1_w Shape: (3072, 48)\n",
      "Loading Params: fc1_b Shape: (48,)\n",
      "Loading Params: fc2_w Shape: (48, 20)\n",
      "Loading Params: fc2_b Shape: (20,)\n",
      "Validation Accuracy: 31.52%\n",
      "Testing Accuracy: 31.55%\n"
     ]
    }
   ],
   "source": [
    "# Demo: How to load the parameters to a newly defined network\n",
    "model = TinyNet()\n",
    "model.net.load(opt_params)\n",
    "val_acc = compute_acc(model, data[\"data_val\"], data[\"labels_val\"])\n",
    "print (\"Validation Accuracy: {}%\".format(val_acc*100))\n",
    "test_acc = compute_acc(model, data[\"data_test\"], data[\"labels_test\"])\n",
    "print (\"Testing Accuracy: {}%\".format(test_acc*100))"
   ]
  },
  {
   "cell_type": "code",
   "execution_count": 34,
   "metadata": {},
   "outputs": [
    {
     "data": {
      "image/png": "[encoded data removed]",
      "text/plain": [
       "<Figure size 1500x1200 with 2 Axes>"
      ]
     },
     "metadata": {},
     "output_type": "display_data"
    }
   ],
   "source": [
    "# Plot the learning curves\n",
    "plt.subplot(2, 1, 1)\n",
    "plt.title('Training loss')\n",
    "loss_hist_ = loss_hist[1::100] # sparse the curve a bit\n",
    "plt.plot(loss_hist_, '-o')\n",
    "plt.xlabel('Iteration')\n",
    "\n",
    "plt.subplot(2, 1, 2)\n",
    "plt.title('Accuracy')\n",
    "plt.plot(train_acc_hist, '-o', label='Training')\n",
    "plt.plot(val_acc_hist, '-o', label='Validation')\n",
    "plt.xlabel('Epoch')\n",
    "plt.legend(loc='lower right')\n",
    "plt.gcf().set_size_inches(15, 12)\n",
    "plt.show()"
   ]
  },
  {
   "cell_type": "markdown",
   "metadata": {},
   "source": [
    "## Different Optimizers and Regularization Techniques\n",
    "There are several more advanced optimizers than vanilla SGD, and there are many regularization tricks. You'll implement them in this section.\n",
    "Please complete the TODOs in the `lib/optim.py`."
   ]
  },
  {
   "cell_type": "markdown",
   "metadata": {},
   "source": [
    "## SGD + Weight Decay [2pt]\n",
    "The update rule of SGD plus weigh decay is as shown below:  \n",
    "\\begin{align*}\n",
    "\\theta_{t+1} &= \\theta_t - \\eta \\nabla_{\\theta}J(\\theta_t) - \\lambda \\theta_t\n",
    "\\end{align*}\n",
    "Update the `SGD()` function in `lib/optim.py`, and also incorporate weight decay options."
   ]
  },
  {
   "cell_type": "code",
   "execution_count": 13,
   "metadata": {},
   "outputs": [
    {
     "name": "stdout",
     "output_type": "stream",
     "text": [
      "The following errors should be around or less than 1e-6\n",
      "updated_w error:  8.677112905190533e-08\n"
     ]
    }
   ],
   "source": [
    "%reload_ext autoreload\n",
    "\n",
    "# Test the implementation of SGD with Momentum\n",
    "seed = 1234\n",
    "np.random.seed(seed=seed)\n",
    "\n",
    "N, D = 4, 5\n",
    "test_sgd = sequential(fc(N, D, name=\"sgd_fc\"))\n",
    "\n",
    "w = np.linspace(-0.4, 0.6, num=N*D).reshape(N, D)\n",
    "dw = np.linspace(-0.6, 0.4, num=N*D).reshape(N, D)\n",
    "\n",
    "test_sgd.layers[0].params = {\"sgd_fc_w\": w}\n",
    "test_sgd.layers[0].grads = {\"sgd_fc_w\": dw}\n",
    "\n",
    "\n",
    "test_sgd_wd = SGD(test_sgd, 1e-3, 1e-4)\n",
    "test_sgd_wd.step()\n",
    "\n",
    "updated_w = test_sgd.layers[0].params[\"sgd_fc_w\"]\n",
    "\n",
    "\n",
    "expected_updated_w = np.asarray([\n",
    "       [-0.39936   , -0.34678632, -0.29421263, -0.24163895, -0.18906526],\n",
    "       [-0.13649158, -0.08391789, -0.03134421,  0.02122947,  0.07380316],\n",
    "       [ 0.12637684,  0.17895053,  0.23152421,  0.28409789,  0.33667158],\n",
    "       [ 0.38924526,  0.44181895,  0.49439263,  0.54696632,  0.59954   ]])\n",
    "\n",
    "\n",
    "print ('The following errors should be around or less than 1e-6')\n",
    "print ('updated_w error: ', rel_error(updated_w, expected_updated_w))"
   ]
  },
  {
   "cell_type": "code",
   "execution_count": 6,
   "metadata": {},
   "outputs": [
    {
     "name": "stdout",
     "output_type": "stream",
     "text": [
      "[[-0.39936    -0.34678632 -0.29421263 -0.24163895 -0.18906526]\n",
      " [-0.13649158 -0.08391789 -0.03134421  0.02122947  0.07380316]\n",
      " [ 0.12637684  0.17895053  0.23152421  0.28409789  0.33667158]\n",
      " [ 0.38924526  0.44181895  0.49439263  0.54696632  0.59954   ]]\n"
     ]
    }
   ],
   "source": [
    "print(updated_w)"
   ]
  },
  {
   "cell_type": "markdown",
   "metadata": {},
   "source": [
    "## Comparing SGD and SGD with Weight Decay [2pt]\n",
    "Run the following code block to train a multi-layer fully connected network with both SGD and SGD plus Weight Decay.\n",
    "You are expected to see Weight Decay have better validation accuracy than vinilla SGD. "
   ]
  },
  {
   "cell_type": "code",
   "execution_count": null,
   "metadata": {
    "scrolled": true
   },
   "outputs": [],
   "source": [
    "seed = 1234\n",
    "\n",
    "# Arrange a small data\n",
    "num_train = 20000\n",
    "small_data_dict = {\n",
    "    \"data_train\": (data[\"data_train\"][:num_train], data[\"labels_train\"][:num_train]),\n",
    "    \"data_val\": (data[\"data_val\"], data[\"labels_val\"]),\n",
    "    \"data_test\": (data[\"data_test\"], data[\"labels_test\"])\n",
    "}\n",
    "\n",
    "reset_seed(seed=seed)\n",
    "model_sgd      = FullyConnectedNetwork()\n",
    "loss_f_sgd     = cross_entropy()\n",
    "optimizer_sgd  = SGD(model_sgd.net, 0.01)\n",
    "print (\"Training with Vanilla SGD...\")\n",
    "results_sgd = train_net(small_data_dict, model_sgd, loss_f_sgd, optimizer_sgd, batch_size=100, \n",
    "                        max_epochs=50, show_every=10000, verbose=True)\n",
    "\n",
    "import pickle\n",
    "with open('results_sgd.txt', 'wb') as f:\n",
    "    pickle.dump(results_sgd,f) \n",
    "    \n",
    "reset_seed(seed=seed)\n",
    "model_sgdw     = FullyConnectedNetwork()\n",
    "loss_f_sgdw    = cross_entropy()\n",
    "optimizer_sgdw = SGD(model_sgdw.net, 0.01, 1e-4)\n",
    "print (\"\\nTraining with SGD plus Weight Decay...\")\n",
    "results_sgdw = train_net(small_data_dict, model_sgdw, loss_f_sgdw, optimizer_sgdw, batch_size=100, \n",
    "                         max_epochs=50, show_every=10000, verbose=True)\n",
    "\n",
    "with open('results_sgdw.txt', 'wb') as f:\n",
    "    pickle.dump(results_sgdw,f)\n",
    "\n",
    "opt_params_sgd,  loss_hist_sgd,  train_acc_hist_sgd,  val_acc_hist_sgd  = results_sgd\n",
    "opt_params_sgdw, loss_hist_sgdw, train_acc_hist_sgdw, val_acc_hist_sgdw = results_sgdw\n",
    "\n",
    "plt.subplot(3, 1, 1)\n",
    "plt.title('Training loss')\n",
    "plt.xlabel('Iteration')\n",
    "\n",
    "plt.subplot(3, 1, 2)\n",
    "plt.title('Training accuracy')\n",
    "plt.xlabel('Epoch')\n",
    "\n",
    "plt.subplot(3, 1, 3)\n",
    "plt.title('Validation accuracy')\n",
    "plt.xlabel('Epoch')\n",
    "\n",
    "plt.subplot(3, 1, 1)\n",
    "plt.plot(loss_hist_sgd, 'o', label=\"Vanilla SGD\")\n",
    "plt.subplot(3, 1, 2)\n",
    "plt.plot(train_acc_hist_sgd, '-o', label=\"Vanilla SGD\")\n",
    "plt.subplot(3, 1, 3)\n",
    "plt.plot(val_acc_hist_sgd, '-o', label=\"Vanilla SGD\")\n",
    "         \n",
    "plt.subplot(3, 1, 1)\n",
    "plt.plot(loss_hist_sgdw, 'o', label=\"SGD with Weight Decay\")\n",
    "plt.subplot(3, 1, 2)\n",
    "plt.plot(train_acc_hist_sgdw, '-o', label=\"SGD with Weight Decay\")\n",
    "plt.subplot(3, 1, 3)\n",
    "plt.plot(val_acc_hist_sgdw, '-o', label=\"SGD with Weight Decay\")\n",
    "  \n",
    "for i in [1, 2, 3]:\n",
    "  plt.subplot(3, 1, i)\n",
    "  plt.legend(loc='upper center', ncol=4)\n",
    "plt.gcf().set_size_inches(15, 15)\n",
    "plt.show()"
   ]
  },
  {
   "cell_type": "markdown",
   "metadata": {},
   "source": [
    "Training with Vanilla SGD...\n",
    "  0%|▍                                                                                 | 1/200 [00:12<41:06, 12.40s/it]\n",
    "(Iteration 1 / 10000) Average loss: 3.262084747551611\n",
    "100%|████████████████████████████████████████████████████████████████████████████████| 200/200 [16:30<00:00,  4.95s/it]\n",
    "(Epoch 1 / 50) Training Accuracy: 0.13, Validation Accuracy: 0.13\n",
    "100%|████████████████████████████████████████████████████████████████████████████████| 200/200 [16:21<00:00,  4.91s/it]\n",
    "(Epoch 2 / 50) Training Accuracy: 0.23, Validation Accuracy: 0.23\n",
    "100%|████████████████████████████████████████████████████████████████████████████████| 200/200 [15:43<00:00,  4.72s/it]\n",
    "(Epoch 3 / 50) Training Accuracy: 0.16, Validation Accuracy: 0.25\n",
    "100%|████████████████████████████████████████████████████████████████████████████████| 200/200 [16:29<00:00,  4.95s/it]\n",
    "(Epoch 4 / 50) Training Accuracy: 0.22, Validation Accuracy: 0.26\n",
    "100%|████████████████████████████████████████████████████████████████████████████████| 200/200 [14:42<00:00,  4.41s/it]\n",
    "(Epoch 5 / 50) Training Accuracy: 0.28, Validation Accuracy: 0.24\n",
    "100%|████████████████████████████████████████████████████████████████████████████████| 200/200 [14:14<00:00,  4.27s/it]\n",
    "(Epoch 6 / 50) Training Accuracy: 0.3, Validation Accuracy: 0.3\n",
    "100%|████████████████████████████████████████████████████████████████████████████████| 200/200 [15:51<00:00,  4.76s/it]\n",
    "(Epoch 7 / 50) Training Accuracy: 0.25, Validation Accuracy: 0.22\n",
    "100%|████████████████████████████████████████████████████████████████████████████████| 200/200 [14:59<00:00,  4.50s/it]\n",
    "(Epoch 8 / 50) Training Accuracy: 0.23, Validation Accuracy: 0.25\n",
    "100%|████████████████████████████████████████████████████████████████████████████████| 200/200 [41:11<00:00, 12.36s/it]\n",
    "(Epoch 9 / 50) Training Accuracy: 0.41, Validation Accuracy: 0.28\n",
    "100%|████████████████████████████████████████████████████████████████████████████████| 200/200 [41:18<00:00, 12.39s/it]\n",
    "(Epoch 10 / 50) Training Accuracy: 0.31, Validation Accuracy: 0.23\n",
    "100%|████████████████████████████████████████████████████████████████████████████████| 200/200 [41:24<00:00, 12.42s/it]\n",
    "(Epoch 11 / 50) Training Accuracy: 0.31, Validation Accuracy: 0.33\n",
    "100%|████████████████████████████████████████████████████████████████████████████████| 200/200 [41:22<00:00, 12.41s/it]\n",
    "(Epoch 12 / 50) Training Accuracy: 0.35, Validation Accuracy: 0.22\n",
    "100%|████████████████████████████████████████████████████████████████████████████████| 200/200 [34:52<00:00, 10.46s/it]\n",
    "(Epoch 13 / 50) Training Accuracy: 0.35, Validation Accuracy: 0.26\n",
    "100%|████████████████████████████████████████████████████████████████████████████████| 200/200 [20:22<00:00,  6.11s/it]\n",
    "(Epoch 14 / 50) Training Accuracy: 0.33, Validation Accuracy: 0.29\n",
    "100%|████████████████████████████████████████████████████████████████████████████████| 200/200 [23:15<00:00,  6.98s/it]\n",
    "(Epoch 15 / 50) Training Accuracy: 0.39, Validation Accuracy: 0.3\n",
    "100%|████████████████████████████████████████████████████████████████████████████████| 200/200 [20:01<00:00,  6.01s/it]\n",
    "(Epoch 16 / 50) Training Accuracy: 0.32, Validation Accuracy: 0.21\n",
    "100%|████████████████████████████████████████████████████████████████████████████████| 200/200 [19:40<00:00,  5.90s/it]\n",
    "(Epoch 17 / 50) Training Accuracy: 0.44, Validation Accuracy: 0.26\n",
    "100%|████████████████████████████████████████████████████████████████████████████████| 200/200 [17:41<00:00,  5.31s/it]\n",
    "(Epoch 18 / 50) Training Accuracy: 0.37, Validation Accuracy: 0.37\n",
    "100%|████████████████████████████████████████████████████████████████████████████████| 200/200 [15:26<00:00,  4.63s/it]\n",
    "(Epoch 19 / 50) Training Accuracy: 0.4, Validation Accuracy: 0.29\n",
    "100%|████████████████████████████████████████████████████████████████████████████████| 200/200 [15:44<00:00,  4.72s/it]\n",
    "(Epoch 20 / 50) Training Accuracy: 0.35, Validation Accuracy: 0.33\n",
    "100%|████████████████████████████████████████████████████████████████████████████████| 200/200 [17:53<00:00,  5.37s/it]\n",
    "(Epoch 21 / 50) Training Accuracy: 0.34, Validation Accuracy: 0.34\n",
    "100%|████████████████████████████████████████████████████████████████████████████████| 200/200 [22:01<00:00,  6.61s/it]\n",
    "(Epoch 22 / 50) Training Accuracy: 0.36, Validation Accuracy: 0.28\n",
    "100%|████████████████████████████████████████████████████████████████████████████████| 200/200 [18:10<00:00,  5.45s/it]\n",
    "(Epoch 23 / 50) Training Accuracy: 0.35, Validation Accuracy: 0.3\n",
    "100%|████████████████████████████████████████████████████████████████████████████████| 200/200 [17:44<00:00,  5.32s/it]\n",
    "(Epoch 24 / 50) Training Accuracy: 0.33, Validation Accuracy: 0.24\n",
    "100%|████████████████████████████████████████████████████████████████████████████████| 200/200 [18:48<00:00,  5.64s/it]\n",
    "(Epoch 25 / 50) Training Accuracy: 0.35, Validation Accuracy: 0.25\n",
    "100%|████████████████████████████████████████████████████████████████████████████████| 200/200 [19:04<00:00,  5.72s/it]\n",
    "(Epoch 26 / 50) Training Accuracy: 0.29, Validation Accuracy: 0.22\n",
    "100%|████████████████████████████████████████████████████████████████████████████████| 200/200 [18:27<00:00,  5.54s/it]\n",
    "(Epoch 27 / 50) Training Accuracy: 0.42, Validation Accuracy: 0.23\n",
    "100%|████████████████████████████████████████████████████████████████████████████████| 200/200 [15:58<00:00,  4.79s/it]\n",
    "(Epoch 28 / 50) Training Accuracy: 0.43, Validation Accuracy: 0.29\n",
    "100%|████████████████████████████████████████████████████████████████████████████████| 200/200 [16:06<00:00,  4.83s/it]\n",
    "(Epoch 29 / 50) Training Accuracy: 0.43, Validation Accuracy: 0.31\n",
    "100%|████████████████████████████████████████████████████████████████████████████████| 200/200 [17:48<00:00,  5.34s/it]\n",
    "(Epoch 30 / 50) Training Accuracy: 0.46, Validation Accuracy: 0.31\n",
    "100%|████████████████████████████████████████████████████████████████████████████████| 200/200 [16:32<00:00,  4.96s/it]\n",
    "(Epoch 31 / 50) Training Accuracy: 0.44, Validation Accuracy: 0.26\n",
    "100%|████████████████████████████████████████████████████████████████████████████████| 200/200 [16:04<00:00,  4.82s/it]\n",
    "(Epoch 32 / 50) Training Accuracy: 0.47, Validation Accuracy: 0.31\n",
    "100%|████████████████████████████████████████████████████████████████████████████████| 200/200 [15:45<00:00,  4.73s/it]\n",
    "(Epoch 33 / 50) Training Accuracy: 0.45, Validation Accuracy: 0.2\n",
    "100%|████████████████████████████████████████████████████████████████████████████████| 200/200 [15:55<00:00,  4.78s/it]\n",
    "(Epoch 34 / 50) Training Accuracy: 0.49, Validation Accuracy: 0.26\n",
    "100%|████████████████████████████████████████████████████████████████████████████████| 200/200 [17:07<00:00,  5.14s/it]\n",
    "(Epoch 35 / 50) Training Accuracy: 0.48, Validation Accuracy: 0.29\n",
    "100%|████████████████████████████████████████████████████████████████████████████████| 200/200 [16:38<00:00,  4.99s/it]\n",
    "(Epoch 36 / 50) Training Accuracy: 0.57, Validation Accuracy: 0.26\n",
    "100%|████████████████████████████████████████████████████████████████████████████████| 200/200 [16:07<00:00,  4.84s/it]\n",
    "(Epoch 37 / 50) Training Accuracy: 0.57, Validation Accuracy: 0.24\n",
    "100%|████████████████████████████████████████████████████████████████████████████████| 200/200 [15:59<00:00,  4.80s/it]\n",
    "(Epoch 38 / 50) Training Accuracy: 0.4, Validation Accuracy: 0.34\n",
    "100%|████████████████████████████████████████████████████████████████████████████████| 200/200 [14:50<00:00,  4.45s/it]\n",
    "(Epoch 39 / 50) Training Accuracy: 0.56, Validation Accuracy: 0.23\n",
    "100%|████████████████████████████████████████████████████████████████████████████████| 200/200 [14:45<00:00,  4.43s/it]\n",
    "(Epoch 40 / 50) Training Accuracy: 0.54, Validation Accuracy: 0.3\n",
    "100%|████████████████████████████████████████████████████████████████████████████████| 200/200 [14:47<00:00,  4.44s/it]\n",
    "(Epoch 41 / 50) Training Accuracy: 0.54, Validation Accuracy: 0.23\n",
    "100%|████████████████████████████████████████████████████████████████████████████████| 200/200 [14:53<00:00,  4.47s/it]\n",
    "(Epoch 42 / 50) Training Accuracy: 0.54, Validation Accuracy: 0.22\n",
    "100%|████████████████████████████████████████████████████████████████████████████████| 200/200 [14:51<00:00,  4.46s/it]\n",
    "(Epoch 43 / 50) Training Accuracy: 0.58, Validation Accuracy: 0.3\n",
    "100%|████████████████████████████████████████████████████████████████████████████████| 200/200 [14:44<00:00,  4.42s/it]\n",
    "(Epoch 44 / 50) Training Accuracy: 0.5, Validation Accuracy: 0.35\n",
    "100%|████████████████████████████████████████████████████████████████████████████████| 200/200 [14:42<00:00,  4.41s/it]\n",
    "(Epoch 45 / 50) Training Accuracy: 0.6, Validation Accuracy: 0.35\n",
    "100%|████████████████████████████████████████████████████████████████████████████████| 200/200 [14:46<00:00,  4.43s/it]\n",
    "(Epoch 46 / 50) Training Accuracy: 0.57, Validation Accuracy: 0.29\n",
    "100%|████████████████████████████████████████████████████████████████████████████████| 200/200 [14:42<00:00,  4.41s/it]\n",
    "(Epoch 47 / 50) Training Accuracy: 0.46, Validation Accuracy: 0.22\n",
    "100%|████████████████████████████████████████████████████████████████████████████████| 200/200 [14:44<00:00,  4.42s/it]\n",
    "(Epoch 48 / 50) Training Accuracy: 0.59, Validation Accuracy: 0.27\n",
    "100%|████████████████████████████████████████████████████████████████████████████████| 200/200 [14:46<00:00,  4.43s/it]\n",
    "(Epoch 49 / 50) Training Accuracy: 0.63, Validation Accuracy: 0.28\n",
    "100%|████████████████████████████████████████████████████████████████████████████████| 200/200 [14:47<00:00,  4.44s/it]\n",
    "(Epoch 50 / 50) Training Accuracy: 0.51, Validation Accuracy: 0.21\n",
    "\n",
    "Training with SGD plus Weight Decay...\n",
    "  0%|                                                                                          | 0/200 [00:00<?, ?it/s]C:\\Users\\Sneha\\Documents\\Jupyter Notebooks\\CSCI-566-Deep-Learning-and-its-Applications\\csci566-assignment1\\lib\\mlp\\layer_utils.py:279: RuntimeWarning: overflow encountered in cosh\n",
    "  b = np.cosh(np.sqrt(2 / np.pi) * (x + 0.044715 * np.power(x, 3)))\n",
    "  0%|▍                                                                                 | 1/200 [00:03<11:38,  3.51s/it]\n",
    "(Iteration 1 / 10000) Average loss: 3.262084747551611\n",
    "100%|████████████████████████████████████████████████████████████████████████████████| 200/200 [12:12<00:00,  3.66s/it]\n",
    "(Epoch 1 / 50) Training Accuracy: 0.14, Validation Accuracy: 0.12\n",
    "100%|████████████████████████████████████████████████████████████████████████████████| 200/200 [13:46<00:00,  4.13s/it]\n",
    "(Epoch 2 / 50) Training Accuracy: 0.23, Validation Accuracy: 0.22\n",
    "100%|████████████████████████████████████████████████████████████████████████████████| 200/200 [13:23<00:00,  4.02s/it]\n",
    "(Epoch 3 / 50) Training Accuracy: 0.19, Validation Accuracy: 0.26\n",
    "100%|████████████████████████████████████████████████████████████████████████████████| 200/200 [13:35<00:00,  4.08s/it]\n",
    "(Epoch 4 / 50) Training Accuracy: 0.22, Validation Accuracy: 0.26\n",
    "100%|████████████████████████████████████████████████████████████████████████████████| 200/200 [14:04<00:00,  4.22s/it]\n",
    "(Epoch 5 / 50) Training Accuracy: 0.27, Validation Accuracy: 0.22\n",
    "100%|████████████████████████████████████████████████████████████████████████████████| 200/200 [14:14<00:00,  4.27s/it]\n",
    "(Epoch 6 / 50) Training Accuracy: 0.27, Validation Accuracy: 0.31\n",
    "100%|████████████████████████████████████████████████████████████████████████████████| 200/200 [13:08<00:00,  3.94s/it]\n",
    "(Epoch 7 / 50) Training Accuracy: 0.25, Validation Accuracy: 0.25\n",
    "100%|████████████████████████████████████████████████████████████████████████████████| 200/200 [12:40<00:00,  3.80s/it]\n",
    "(Epoch 8 / 50) Training Accuracy: 0.26, Validation Accuracy: 0.28\n",
    "100%|████████████████████████████████████████████████████████████████████████████████| 200/200 [12:38<00:00,  3.79s/it]\n",
    "(Epoch 9 / 50) Training Accuracy: 0.39, Validation Accuracy: 0.27\n",
    "100%|████████████████████████████████████████████████████████████████████████████████| 200/200 [12:37<00:00,  3.79s/it]\n",
    "(Epoch 10 / 50) Training Accuracy: 0.28, Validation Accuracy: 0.25\n",
    "100%|████████████████████████████████████████████████████████████████████████████████| 200/200 [12:37<00:00,  3.79s/it]\n",
    "(Epoch 11 / 50) Training Accuracy: 0.27, Validation Accuracy: 0.29\n",
    "100%|████████████████████████████████████████████████████████████████████████████████| 200/200 [12:38<00:00,  3.79s/it]\n",
    "(Epoch 12 / 50) Training Accuracy: 0.3, Validation Accuracy: 0.23\n",
    "100%|████████████████████████████████████████████████████████████████████████████████| 200/200 [12:32<00:00,  3.76s/it]\n",
    "(Epoch 13 / 50) Training Accuracy: 0.3, Validation Accuracy: 0.28\n",
    "100%|████████████████████████████████████████████████████████████████████████████████| 200/200 [12:22<00:00,  3.71s/it]\n",
    "(Epoch 14 / 50) Training Accuracy: 0.32, Validation Accuracy: 0.28\n",
    "100%|████████████████████████████████████████████████████████████████████████████████| 200/200 [13:07<00:00,  3.94s/it]\n",
    "(Epoch 15 / 50) Training Accuracy: 0.29, Validation Accuracy: 0.27\n",
    "100%|████████████████████████████████████████████████████████████████████████████████| 200/200 [14:48<00:00,  4.44s/it]\n",
    "(Epoch 16 / 50) Training Accuracy: 0.3, Validation Accuracy: 0.28\n",
    "100%|████████████████████████████████████████████████████████████████████████████████| 200/200 [14:47<00:00,  4.44s/it]\n",
    "(Epoch 17 / 50) Training Accuracy: 0.35, Validation Accuracy: 0.25\n",
    "100%|████████████████████████████████████████████████████████████████████████████████| 200/200 [14:44<00:00,  4.42s/it]\n",
    "(Epoch 18 / 50) Training Accuracy: 0.31, Validation Accuracy: 0.34\n",
    "100%|████████████████████████████████████████████████████████████████████████████████| 200/200 [14:50<00:00,  4.45s/it]\n",
    "(Epoch 19 / 50) Training Accuracy: 0.33, Validation Accuracy: 0.24\n",
    "100%|████████████████████████████████████████████████████████████████████████████████| 200/200 [14:45<00:00,  4.43s/it]\n",
    "(Epoch 20 / 50) Training Accuracy: 0.38, Validation Accuracy: 0.29\n",
    "100%|████████████████████████████████████████████████████████████████████████████████| 200/200 [14:44<00:00,  4.42s/it]\n",
    "(Epoch 21 / 50) Training Accuracy: 0.29, Validation Accuracy: 0.34\n",
    "100%|████████████████████████████████████████████████████████████████████████████████| 200/200 [14:43<00:00,  4.42s/it]\n",
    "(Epoch 22 / 50) Training Accuracy: 0.34, Validation Accuracy: 0.26\n",
    "100%|████████████████████████████████████████████████████████████████████████████████| 200/200 [14:44<00:00,  4.42s/it]\n",
    "(Epoch 23 / 50) Training Accuracy: 0.31, Validation Accuracy: 0.38\n",
    "100%|████████████████████████████████████████████████████████████████████████████████| 200/200 [14:42<00:00,  4.41s/it]\n",
    "(Epoch 24 / 50) Training Accuracy: 0.21, Validation Accuracy: 0.28\n",
    "100%|████████████████████████████████████████████████████████████████████████████████| 200/200 [14:48<00:00,  4.44s/it]\n",
    "(Epoch 25 / 50) Training Accuracy: 0.34, Validation Accuracy: 0.28\n",
    "100%|████████████████████████████████████████████████████████████████████████████████| 200/200 [14:47<00:00,  4.44s/it]\n",
    "(Epoch 26 / 50) Training Accuracy: 0.24, Validation Accuracy: 0.24\n",
    "100%|████████████████████████████████████████████████████████████████████████████████| 200/200 [14:40<00:00,  4.40s/it]\n",
    "(Epoch 27 / 50) Training Accuracy: 0.31, Validation Accuracy: 0.27\n",
    "100%|████████████████████████████████████████████████████████████████████████████████| 200/200 [14:43<00:00,  4.42s/it]\n",
    "(Epoch 28 / 50) Training Accuracy: 0.28, Validation Accuracy: 0.29\n",
    "100%|████████████████████████████████████████████████████████████████████████████████| 200/200 [14:41<00:00,  4.41s/it]\n",
    "(Epoch 29 / 50) Training Accuracy: 0.3, Validation Accuracy: 0.35\n",
    "100%|████████████████████████████████████████████████████████████████████████████████| 200/200 [14:38<00:00,  4.39s/it]\n",
    "(Epoch 30 / 50) Training Accuracy: 0.32, Validation Accuracy: 0.28\n",
    "100%|████████████████████████████████████████████████████████████████████████████████| 200/200 [14:39<00:00,  4.40s/it]\n",
    "(Epoch 31 / 50) Training Accuracy: 0.36, Validation Accuracy: 0.32\n",
    "100%|████████████████████████████████████████████████████████████████████████████████| 200/200 [14:40<00:00,  4.40s/it]\n",
    "(Epoch 32 / 50) Training Accuracy: 0.39, Validation Accuracy: 0.33\n",
    "100%|████████████████████████████████████████████████████████████████████████████████| 200/200 [30:16<00:00,  9.08s/it]\n",
    "(Epoch 33 / 50) Training Accuracy: 0.39, Validation Accuracy: 0.22\n",
    "100%|████████████████████████████████████████████████████████████████████████████████| 200/200 [27:34<00:00,  8.27s/it]\n",
    "(Epoch 34 / 50) Training Accuracy: 0.33, Validation Accuracy: 0.3\n",
    "100%|████████████████████████████████████████████████████████████████████████████████| 200/200 [14:48<00:00,  4.44s/it]\n",
    "(Epoch 35 / 50) Training Accuracy: 0.41, Validation Accuracy: 0.29\n",
    "100%|████████████████████████████████████████████████████████████████████████████████| 200/200 [14:48<00:00,  4.44s/it]\n",
    "(Epoch 36 / 50) Training Accuracy: 0.42, Validation Accuracy: 0.27\n",
    "100%|████████████████████████████████████████████████████████████████████████████████| 200/200 [14:47<00:00,  4.44s/it]\n",
    "(Epoch 37 / 50) Training Accuracy: 0.44, Validation Accuracy: 0.34\n",
    "100%|████████████████████████████████████████████████████████████████████████████████| 200/200 [14:45<00:00,  4.43s/it]\n",
    "(Epoch 38 / 50) Training Accuracy: 0.33, Validation Accuracy: 0.43\n",
    "100%|████████████████████████████████████████████████████████████████████████████████| 200/200 [14:44<00:00,  4.42s/it]\n",
    "(Epoch 39 / 50) Training Accuracy: 0.39, Validation Accuracy: 0.32\n",
    "100%|████████████████████████████████████████████████████████████████████████████████| 200/200 [14:48<00:00,  4.44s/it]\n",
    "(Epoch 40 / 50) Training Accuracy: 0.45, Validation Accuracy: 0.34\n",
    "100%|████████████████████████████████████████████████████████████████████████████████| 200/200 [14:45<00:00,  4.43s/it]\n",
    "(Epoch 41 / 50) Training Accuracy: 0.34, Validation Accuracy: 0.29\n",
    "100%|████████████████████████████████████████████████████████████████████████████████| 200/200 [14:47<00:00,  4.44s/it]\n",
    "(Epoch 42 / 50) Training Accuracy: 0.45, Validation Accuracy: 0.32\n",
    "100%|████████████████████████████████████████████████████████████████████████████████| 200/200 [14:44<00:00,  4.42s/it]\n",
    "(Epoch 43 / 50) Training Accuracy: 0.4, Validation Accuracy: 0.34\n",
    "100%|████████████████████████████████████████████████████████████████████████████████| 200/200 [14:42<00:00,  4.41s/it]\n",
    "(Epoch 44 / 50) Training Accuracy: 0.47, Validation Accuracy: 0.3\n",
    "100%|████████████████████████████████████████████████████████████████████████████████| 200/200 [14:44<00:00,  4.42s/it]\n",
    "(Epoch 45 / 50) Training Accuracy: 0.46, Validation Accuracy: 0.35\n",
    "100%|████████████████████████████████████████████████████████████████████████████████| 200/200 [14:44<00:00,  4.42s/it]\n",
    "(Epoch 46 / 50) Training Accuracy: 0.43, Validation Accuracy: 0.38\n",
    "100%|████████████████████████████████████████████████████████████████████████████████| 200/200 [14:47<00:00,  4.44s/it]\n",
    "(Epoch 47 / 50) Training Accuracy: 0.43, Validation Accuracy: 0.34\n",
    "100%|████████████████████████████████████████████████████████████████████████████████| 200/200 [14:43<00:00,  4.42s/it]\n",
    "(Epoch 48 / 50) Training Accuracy: 0.36, Validation Accuracy: 0.26\n",
    "100%|████████████████████████████████████████████████████████████████████████████████| 200/200 [14:43<00:00,  4.42s/it]\n",
    "(Epoch 49 / 50) Training Accuracy: 0.44, Validation Accuracy: 0.33\n",
    "100%|████████████████████████████████████████████████████████████████████████████████| 200/200 [14:44<00:00,  4.42s/it]\n",
    "(Epoch 50 / 50) Training Accuracy: 0.4, Validation Accuracy: 0.26"
   ]
  },
  {
   "cell_type": "markdown",
   "metadata": {},
   "source": [
    "## SGD with L1 Regularization [2pts]\n",
    "With L1 Regularization, your regularized loss becomes $\\tilde{J}_\\mathrm{\\ell_1}(\\theta)$ and it's defined as\n",
    "$$\n",
    "\\tilde{J}_\\mathrm{\\ell_1}(\\theta) = J(\\theta) + \\lambda \\|\\theta\\|_{\\ell_1}\n",
    "$$\n",
    "where \n",
    "$$\n",
    "\\|\\theta\\|_{\\ell_1} = \\sum_{l=1}^n \\sum_{k=1}^{n_l} |\\theta_{l,k}|\n",
    "$$\n",
    "Please implmemt TODO block of ``apply_l1_regularization`` in ``lib/layer_utils``. Such regularization funcationality is called after gradient gathering in the ``backward`` process. "
   ]
  },
  {
   "cell_type": "code",
   "execution_count": 21,
   "metadata": {},
   "outputs": [],
   "source": [
    "# Arrange a small data\n",
    "num_train = 20000\n",
    "small_data_dict = {\n",
    "    \"data_train\": (data[\"data_train\"][:num_train], data[\"labels_train\"][:num_train]),\n",
    "    \"data_val\": (data[\"data_val\"], data[\"labels_val\"]),\n",
    "    \"data_test\": (data[\"data_test\"], data[\"labels_test\"])\n",
    "}"
   ]
  },
  {
   "cell_type": "code",
   "execution_count": null,
   "metadata": {
    "scrolled": true
   },
   "outputs": [],
   "source": [
    "reset_seed(seed=seed)\n",
    "model_sgd_l1     = FullyConnectedNetwork()\n",
    "loss_f_sgd_l1    = cross_entropy()\n",
    "optimizer_sgd_l1 = SGD(model_sgd_l1.net, 0.01)\n",
    "\n",
    "print (\"\\nTraining with SGD plus L1 Regularization...\")\n",
    "results_sgd_l1 = train_net(small_data_dict, model_sgd_l1, loss_f_sgd_l1, optimizer_sgd_l1, batch_size=100, \n",
    "                         max_epochs=50, show_every=10000, verbose=True, regularization=\"l1\", reg_lambda=1e-3)\n",
    "\n",
    "opt_params_sgd_l1, loss_hist_sgd_l1, train_acc_hist_sgd_l1, val_acc_hist_sgd_l1= results_sgd_l1\n",
    "\n",
    "import pickle\n",
    "with open('results_sgd_l1.txt', 'wb') as f:\n",
    "    pickle.dump(results_sgd_l1,f)\n",
    "    \n",
    "plt.subplot(3, 1, 1)\n",
    "plt.title('Training loss')\n",
    "plt.xlabel('Iteration')\n",
    "\n",
    "plt.subplot(3, 1, 2)\n",
    "plt.title('Training accuracy')\n",
    "plt.xlabel('Epoch')\n",
    "\n",
    "plt.subplot(3, 1, 3)\n",
    "plt.title('Validation accuracy')\n",
    "plt.xlabel('Epoch')\n",
    "\n",
    "plt.subplot(3, 1, 1)\n",
    "plt.plot(loss_hist_sgd, 'o', label=\"Vanilla SGD\")\n",
    "plt.subplot(3, 1, 2)\n",
    "plt.plot(train_acc_hist_sgd, '-o', label=\"Vanilla SGD\")\n",
    "plt.subplot(3, 1, 3)\n",
    "plt.plot(val_acc_hist_sgd, '-o', label=\"Vanilla SGD\")\n",
    "\n",
    "plt.subplot(3, 1, 1)\n",
    "plt.plot(loss_hist_sgd_l1, 'o', label=\"SGD with L1 Regularization\")\n",
    "plt.subplot(3, 1, 2)\n",
    "plt.plot(train_acc_hist_sgd_l1, '-o', label=\"SGD with L1 Regularization\")\n",
    "plt.subplot(3, 1, 3)\n",
    "plt.plot(val_acc_hist_sgd_l1, '-o', label=\"SGD with L1 Regularization\")\n",
    "  \n",
    "for i in [1, 2, 3]:\n",
    "  plt.subplot(3, 1, i)\n",
    "  plt.legend(loc='upper center', ncol=4)\n",
    "plt.gcf().set_size_inches(15, 15)\n",
    "plt.show()"
   ]
  },
  {
   "cell_type": "markdown",
   "metadata": {},
   "source": [
    "\n",
    "Training with SGD plus L1 Regularization...\n",
    "  0%|                                                                                          | 0/200 [00:00<?, ?it/s]C:\\Users\\Sneha\\Documents\\Jupyter Notebooks\\CSCI-566-Deep-Learning-and-its-Applications\\csci566-assignment1\\lib\\mlp\\layer_utils.py:279: RuntimeWarning: overflow encountered in cosh\n",
    "  b = np.cosh(np.sqrt(2 / np.pi) * (x + 0.044715 * np.power(x, 3)))\n",
    "  0%|▍                                                                                 | 1/200 [00:05<17:34,  5.30s/it]\n",
    "(Iteration 1 / 10000) Average loss: 3.262084747551611\n",
    "100%|████████████████████████████████████████████████████████████████████████████████| 200/200 [13:19<00:00,  4.00s/it]\n",
    "(Epoch 1 / 50) Training Accuracy: 0.13, Validation Accuracy: 0.13\n",
    "100%|████████████████████████████████████████████████████████████████████████████████| 200/200 [12:04<00:00,  3.62s/it]\n",
    "(Epoch 2 / 50) Training Accuracy: 0.23, Validation Accuracy: 0.23\n",
    "100%|████████████████████████████████████████████████████████████████████████████████| 200/200 [12:00<00:00,  3.60s/it]\n",
    "(Epoch 3 / 50) Training Accuracy: 0.16, Validation Accuracy: 0.25\n",
    "100%|████████████████████████████████████████████████████████████████████████████████| 200/200 [13:33<00:00,  4.07s/it]\n",
    "(Epoch 4 / 50) Training Accuracy: 0.22, Validation Accuracy: 0.26\n",
    "100%|████████████████████████████████████████████████████████████████████████████████| 200/200 [12:32<00:00,  3.76s/it]\n",
    "(Epoch 5 / 50) Training Accuracy: 0.28, Validation Accuracy: 0.24\n",
    "100%|████████████████████████████████████████████████████████████████████████████████| 200/200 [13:42<00:00,  4.11s/it]\n",
    "(Epoch 6 / 50) Training Accuracy: 0.3, Validation Accuracy: 0.3\n",
    "100%|████████████████████████████████████████████████████████████████████████████████| 200/200 [14:03<00:00,  4.22s/it]\n",
    "(Epoch 7 / 50) Training Accuracy: 0.25, Validation Accuracy: 0.22\n",
    "100%|████████████████████████████████████████████████████████████████████████████████| 200/200 [14:45<00:00,  4.43s/it]\n",
    "(Epoch 8 / 50) Training Accuracy: 0.23, Validation Accuracy: 0.25\n",
    "100%|████████████████████████████████████████████████████████████████████████████████| 200/200 [15:10<00:00,  4.55s/it]\n",
    "(Epoch 9 / 50) Training Accuracy: 0.41, Validation Accuracy: 0.28\n",
    "100%|████████████████████████████████████████████████████████████████████████████████| 200/200 [15:21<00:00,  4.61s/it]\n",
    "(Epoch 10 / 50) Training Accuracy: 0.31, Validation Accuracy: 0.23\n",
    "100%|█████████████████████████████████████████████████████████████████████████████████████████████████████████████████████| 200/200 [15:44<00:00,  4.72s/it]\n",
    "(Epoch 11 / 50) Training Accuracy: 0.31, Validation Accuracy: 0.33\n",
    "100%|█████████████████████████████████████████████████████████████████████████████████████████████████████████████████████| 200/200 [15:33<00:00,  4.67s/it]\n",
    "(Epoch 12 / 50) Training Accuracy: 0.35, Validation Accuracy: 0.22\n",
    "100%|█████████████████████████████████████████████████████████████████████████████████████████████████████████████████████| 200/200 [16:02<00:00,  4.81s/it]\n",
    "(Epoch 13 / 50) Training Accuracy: 0.35, Validation Accuracy: 0.26\n",
    "100%|█████████████████████████████████████████████████████████████████████████████████████████████████████████████████████| 200/200 [15:41<00:00,  4.71s/it]\n",
    "(Epoch 14 / 50) Training Accuracy: 0.33, Validation Accuracy: 0.29\n",
    "100%|█████████████████████████████████████████████████████████████████████████████████████████████████████████████████████| 200/200 [15:47<00:00,  4.74s/it]\n",
    "(Epoch 15 / 50) Training Accuracy: 0.39, Validation Accuracy: 0.3\n",
    "100%|█████████████████████████████████████████████████████████████████████████████████████████████████████████████████████| 200/200 [15:04<00:00,  4.52s/it]\n",
    "(Epoch 16 / 50) Training Accuracy: 0.32, Validation Accuracy: 0.21\n",
    "100%|████████████████████████████████████████████████████████████████████████████████| 200/200 [15:10<00:00,  4.55s/it]\n",
    "(Epoch 17 / 50) Training Accuracy: 0.44, Validation Accuracy: 0.26\n",
    "100%|████████████████████████████████████████████████████████████████████████████████| 200/200 [15:20<00:00,  4.60s/it]\n",
    "(Epoch 18 / 50) Training Accuracy: 0.37, Validation Accuracy: 0.37\n",
    "100%|████████████████████████████████████████████████████████████████████████████████| 200/200 [15:38<00:00,  4.69s/it]\n",
    "(Epoch 19 / 50) Training Accuracy: 0.4, Validation Accuracy: 0.29\n",
    "100%|████████████████████████████████████████████████████████████████████████████████| 200/200 [15:10<00:00,  4.55s/it]\n",
    "(Epoch 20 / 50) Training Accuracy: 0.35, Validation Accuracy: 0.33\n",
    "100%|████████████████████████████████████████████████████████████████████████████████████| 200/200 [15:23<00:00,  4.62s/it]\n",
    "(Epoch 21 / 50) Training Accuracy: 0.34, Validation Accuracy: 0.34\n",
    "100%|████████████████████████████████████████████████████████████████████████████████████| 200/200 [15:25<00:00,  4.63s/it]\n",
    "(Epoch 22 / 50) Training Accuracy: 0.36, Validation Accuracy: 0.28\n",
    "100%|████████████████████████████████████████████████████████████████████████████████████| 200/200 [15:27<00:00,  4.64s/it]\n",
    "(Epoch 23 / 50) Training Accuracy: 0.35, Validation Accuracy: 0.3\n",
    "100%|████████████████████████████████████████████████████████████████████████████████████| 200/200 [17:38<00:00,  5.29s/it]\n",
    "(Epoch 24 / 50) Training Accuracy: 0.33, Validation Accuracy: 0.24\n",
    "100%|████████████████████████████████████████████████████████████████████████████████████| 200/200 [17:09<00:00,  5.15s/it]\n",
    "(Epoch 25 / 50) Training Accuracy: 0.35, Validation Accuracy: 0.25\n",
    "100%|████████████████████████████████████████████████████████████████████████████████████| 200/200 [17:29<00:00,  5.25s/it]\n",
    "(Epoch 26 / 50) Training Accuracy: 0.29, Validation Accuracy: 0.22\n",
    "100%|████████████████████████████████████████████████████████████████████████████████████| 200/200 [27:58<00:00,  8.39s/it]\n",
    "(Epoch 27 / 50) Training Accuracy: 0.42, Validation Accuracy: 0.23\n",
    "100%|████████████████████████████████████████████████████████████████████████████████| 200/200 [41:01<00:00, 12.31s/it]\n",
    "(Epoch 28 / 50) Training Accuracy: 0.43, Validation Accuracy: 0.29\n",
    "100%|████████████████████████████████████████████████████████████████████████████████| 200/200 [40:53<00:00, 12.27s/it]\n",
    "(Epoch 29 / 50) Training Accuracy: 0.43, Validation Accuracy: 0.31\n",
    "100%|████████████████████████████████████████████████████████████████████████████████| 200/200 [41:39<00:00, 12.50s/it]\n",
    "(Epoch 30 / 50) Training Accuracy: 0.46, Validation Accuracy: 0.31\n",
    "100%|████████████████████████████████████████████████████████████████████████████████| 200/200 [40:45<00:00, 12.23s/it]\n",
    "(Epoch 31 / 50) Training Accuracy: 0.44, Validation Accuracy: 0.26\n",
    "100%|████████████████████████████████████████████████████████████████████████████████| 200/200 [40:03<00:00, 12.02s/it]\n",
    "(Epoch 32 / 50) Training Accuracy: 0.47, Validation Accuracy: 0.31\n",
    "100%|████████████████████████████████████████████████████████████████████████████████| 200/200 [23:10<00:00,  6.95s/it]\n",
    "(Epoch 33 / 50) Training Accuracy: 0.45, Validation Accuracy: 0.2\n",
    "100%|████████████████████████████████████████████████████████████████████████████████| 200/200 [23:16<00:00,  6.98s/it]\n",
    "(Epoch 34 / 50) Training Accuracy: 0.49, Validation Accuracy: 0.26\n",
    "100%|████████████████████████████████████████████████████████████████████████████████| 200/200 [15:20<00:00,  4.60s/it]\n",
    "(Epoch 35 / 50) Training Accuracy: 0.48, Validation Accuracy: 0.29\n",
    "100%|████████████████████████████████████████████████████████████████████████████████| 200/200 [15:26<00:00,  4.63s/it]\n",
    "(Epoch 36 / 50) Training Accuracy: 0.57, Validation Accuracy: 0.26\n",
    "100%|████████████████████████████████████████████████████████████████████████████████| 200/200 [15:16<00:00,  4.58s/it]\n",
    "(Epoch 37 / 50) Training Accuracy: 0.57, Validation Accuracy: 0.24\n",
    "100%|████████████████████████████████████████████████████████████████████████████████| 200/200 [15:18<00:00,  4.59s/it]\n",
    "(Epoch 38 / 50) Training Accuracy: 0.4, Validation Accuracy: 0.34\n",
    "100%|████████████████████████████████████████████████████████████████████████████████| 200/200 [27:09<00:00,  8.15s/it]\n",
    "(Epoch 39 / 50) Training Accuracy: 0.56, Validation Accuracy: 0.23\n",
    "100%|████████████████████████████████████████████████████████████████████████████████| 200/200 [41:43<00:00, 12.52s/it]\n",
    "(Epoch 40 / 50) Training Accuracy: 0.54, Validation Accuracy: 0.3\n",
    "100%|████████████████████████████████████████████████████████████████████████████████| 200/200 [41:02<00:00, 12.31s/it]\n",
    "(Epoch 41 / 50) Training Accuracy: 0.54, Validation Accuracy: 0.23\n",
    "100%|████████████████████████████████████████████████████████████████████████████████| 200/200 [40:59<00:00, 12.30s/it]\n",
    "(Epoch 42 / 50) Training Accuracy: 0.54, Validation Accuracy: 0.22\n",
    "100%|████████████████████████████████████████████████████████████████████████████████| 200/200 [41:07<00:00, 12.34s/it]\n",
    "(Epoch 43 / 50) Training Accuracy: 0.58, Validation Accuracy: 0.3\n",
    "100%|████████████████████████████████████████████████████████████████████████████████| 200/200 [41:07<00:00, 12.34s/it]\n",
    "(Epoch 44 / 50) Training Accuracy: 0.5, Validation Accuracy: 0.35\n",
    "100%|████████████████████████████████████████████████████████████████████████████████| 200/200 [41:05<00:00, 12.33s/it]\n",
    "(Epoch 45 / 50) Training Accuracy: 0.6, Validation Accuracy: 0.35\n",
    "100%|█████████████████████████████████████████████████████████████████████████████| 200/200 [5:55:05<00:00, 106.53s/it]\n",
    "(Epoch 46 / 50) Training Accuracy: 0.57, Validation Accuracy: 0.29\n",
    "100%|████████████████████████████████████████████████████████████████████████████████| 200/200 [16:14<00:00,  4.87s/it]\n",
    "(Epoch 47 / 50) Training Accuracy: 0.46, Validation Accuracy: 0.22\n",
    "100%|████████████████████████████████████████████████████████████████████████████████| 200/200 [16:55<00:00,  5.08s/it]\n",
    "(Epoch 48 / 50) Training Accuracy: 0.59, Validation Accuracy: 0.27\n",
    "100%|████████████████████████████████████████████████████████████████████████████████| 200/200 [17:26<00:00,  5.23s/it]\n",
    "(Epoch 49 / 50) Training Accuracy: 0.63, Validation Accuracy: 0.28\n",
    "100%|████████████████████████████████████████████████████████████████████████████████| 200/200 [19:58<00:00,  5.99s/it]\n",
    "(Epoch 50 / 50) Training Accuracy: 0.51, Validation Accuracy: 0.21"
   ]
  },
  {
   "cell_type": "markdown",
   "metadata": {},
   "source": [
    "## SGD with L2 Regularization [2pts]\n",
    "With L2 Regularization, your regularized loss becomes $\\tilde{J}_\\mathrm{\\ell_2}(\\theta)$ and it's defined as\n",
    "$$\n",
    "\\tilde{J}_\\mathrm{\\ell_2}(\\theta) = J(\\theta) + \\lambda \\|\\theta\\|_{\\ell_2}\n",
    "$$\n",
    "where \n",
    "$$\n",
    "\\|\\theta\\|_{\\ell_2} = \\sum_{l=1}^n \\sum_{k=1}^{n_l} \\theta_{l,k}^2\n",
    "$$\n",
    "Similarly, implmemt TODO block of ``apply_l2_regularization`` in ``lib/layer_utils``.\n",
    "For SGD, you're also asked to find the $\\lambda$ for L2 Regularization such that it achives the EXACTLY SAME effect as weight decay in the previous cells. As a reminder, learning rate is the same as previously, and the weight decay paramter was 1e-4."
   ]
  },
  {
   "cell_type": "code",
   "execution_count": 22,
   "metadata": {},
   "outputs": [
    {
     "name": "stdout",
     "output_type": "stream",
     "text": [
      "\n",
      "Training with SGD plus L2 Regularization...\n"
     ]
    },
    {
     "name": "stderr",
     "output_type": "stream",
     "text": [
      "  0%|                                                                                          | 0/200 [00:00<?, ?it/s]C:\\Users\\Sneha\\Documents\\Jupyter Notebooks\\CSCI-566-Deep-Learning-and-its-Applications\\csci566-assignment1\\lib\\mlp\\layer_utils.py:279: RuntimeWarning: overflow encountered in cosh\n",
      "  b = np.cosh(np.sqrt(2 / np.pi) * (x + 0.044715 * np.power(x, 3)))\n",
      " 62%|█████████████████████████████████████████████████▏                              | 123/200 [24:53<15:35, 12.15s/it]\n"
     ]
    },
    {
     "ename": "KeyboardInterrupt",
     "evalue": "",
     "output_type": "error",
     "traceback": [
      "\u001b[1;31m---------------------------------------------------------------------------\u001b[0m",
      "\u001b[1;31mKeyboardInterrupt\u001b[0m                         Traceback (most recent call last)",
      "\u001b[1;32m~\\AppData\\Local\\Temp\\ipykernel_6472\\976296867.py\u001b[0m in \u001b[0;36m<module>\u001b[1;34m\u001b[0m\n\u001b[0;32m     10\u001b[0m \u001b[1;33m\u001b[0m\u001b[0m\n\u001b[0;32m     11\u001b[0m \u001b[0mprint\u001b[0m \u001b[1;33m(\u001b[0m\u001b[1;34m\"\\nTraining with SGD plus L2 Regularization...\"\u001b[0m\u001b[1;33m)\u001b[0m\u001b[1;33m\u001b[0m\u001b[1;33m\u001b[0m\u001b[0m\n\u001b[1;32m---> 12\u001b[1;33m results_sgd_l2 = train_net(small_data_dict, model_sgd_l2, loss_f_sgd_l2, optimizer_sgd_l2, batch_size=100, \n\u001b[0m\u001b[0;32m     13\u001b[0m                            max_epochs=50, show_every=10000, verbose=False, regularization=\"l2\", reg_lambda=l2_lambda)\n\u001b[0;32m     14\u001b[0m \u001b[1;33m\u001b[0m\u001b[0m\n",
      "\u001b[1;32m~\\Documents\\Jupyter Notebooks\\CSCI-566-Deep-Learning-and-its-Applications\\csci566-assignment1\\lib\\mlp\\train.py\u001b[0m in \u001b[0;36mtrain_net\u001b[1;34m(data, model, loss_func, optimizer, batch_size, max_epochs, lr_decay, lr_decay_every, show_every, verbose, regularization, reg_lambda)\u001b[0m\n\u001b[0;32m    168\u001b[0m             \u001b[1;31m#Backward pass of the network : INCOMPLETE : REGULARIZATION INSTRUCTION READ ABOVE\u001b[0m\u001b[1;33m\u001b[0m\u001b[1;33m\u001b[0m\u001b[0m\n\u001b[0;32m    169\u001b[0m             \u001b[0mdLoss\u001b[0m \u001b[1;33m=\u001b[0m \u001b[0mloss_func\u001b[0m\u001b[1;33m.\u001b[0m\u001b[0mbackward\u001b[0m\u001b[1;33m(\u001b[0m\u001b[1;33m)\u001b[0m\u001b[1;33m\u001b[0m\u001b[1;33m\u001b[0m\u001b[0m\n\u001b[1;32m--> 170\u001b[1;33m             \u001b[0mdX\u001b[0m \u001b[1;33m=\u001b[0m \u001b[0mmodel\u001b[0m\u001b[1;33m.\u001b[0m\u001b[0mbackward\u001b[0m\u001b[1;33m(\u001b[0m\u001b[0mdLoss\u001b[0m\u001b[1;33m)\u001b[0m\u001b[1;33m\u001b[0m\u001b[1;33m\u001b[0m\u001b[0m\n\u001b[0m\u001b[0;32m    171\u001b[0m \u001b[1;33m\u001b[0m\u001b[0m\n\u001b[0;32m    172\u001b[0m             \u001b[1;31m#Gradient descent\u001b[0m\u001b[1;33m\u001b[0m\u001b[1;33m\u001b[0m\u001b[0m\n",
      "\u001b[1;32m~\\Documents\\Jupyter Notebooks\\CSCI-566-Deep-Learning-and-its-Applications\\csci566-assignment1\\lib\\mlp\\fully_conn.py\u001b[0m in \u001b[0;36mbackward\u001b[1;34m(self, dprev, regularization, reg_lambda)\u001b[0m\n\u001b[0;32m     24\u001b[0m     \u001b[1;32mdef\u001b[0m \u001b[0mbackward\u001b[0m\u001b[1;33m(\u001b[0m\u001b[0mself\u001b[0m\u001b[1;33m,\u001b[0m \u001b[0mdprev\u001b[0m\u001b[1;33m,\u001b[0m \u001b[0mregularization\u001b[0m\u001b[1;33m=\u001b[0m\u001b[1;34m\"none\"\u001b[0m\u001b[1;33m,\u001b[0m \u001b[0mreg_lambda\u001b[0m\u001b[1;33m=\u001b[0m\u001b[1;36m0.0\u001b[0m\u001b[1;33m)\u001b[0m\u001b[1;33m:\u001b[0m\u001b[1;33m\u001b[0m\u001b[1;33m\u001b[0m\u001b[0m\n\u001b[0;32m     25\u001b[0m         \u001b[1;32mfor\u001b[0m \u001b[0mlayer\u001b[0m \u001b[1;32min\u001b[0m \u001b[0mself\u001b[0m\u001b[1;33m.\u001b[0m\u001b[0mnet\u001b[0m\u001b[1;33m.\u001b[0m\u001b[0mlayers\u001b[0m\u001b[1;33m[\u001b[0m\u001b[1;33m:\u001b[0m\u001b[1;33m:\u001b[0m\u001b[1;33m-\u001b[0m\u001b[1;36m1\u001b[0m\u001b[1;33m]\u001b[0m\u001b[1;33m:\u001b[0m\u001b[1;33m\u001b[0m\u001b[1;33m\u001b[0m\u001b[0m\n\u001b[1;32m---> 26\u001b[1;33m             \u001b[0mdprev\u001b[0m \u001b[1;33m=\u001b[0m \u001b[0mlayer\u001b[0m\u001b[1;33m.\u001b[0m\u001b[0mbackward\u001b[0m\u001b[1;33m(\u001b[0m\u001b[0mdprev\u001b[0m\u001b[1;33m)\u001b[0m\u001b[1;33m\u001b[0m\u001b[1;33m\u001b[0m\u001b[0m\n\u001b[0m\u001b[0;32m     27\u001b[0m         \u001b[0mself\u001b[0m\u001b[1;33m.\u001b[0m\u001b[0mnet\u001b[0m\u001b[1;33m.\u001b[0m\u001b[0mgather_grads\u001b[0m\u001b[1;33m(\u001b[0m\u001b[1;33m)\u001b[0m\u001b[1;33m\u001b[0m\u001b[1;33m\u001b[0m\u001b[0m\n\u001b[0;32m     28\u001b[0m         \u001b[1;32mif\u001b[0m \u001b[0mregularization\u001b[0m \u001b[1;33m==\u001b[0m \u001b[1;34m\"l1\"\u001b[0m\u001b[1;33m:\u001b[0m\u001b[1;33m\u001b[0m\u001b[1;33m\u001b[0m\u001b[0m\n",
      "\u001b[1;32m~\\Documents\\Jupyter Notebooks\\CSCI-566-Deep-Learning-and-its-Applications\\csci566-assignment1\\lib\\mlp\\layer_utils.py\u001b[0m in \u001b[0;36mbackward\u001b[1;34m(self, dprev)\u001b[0m\n\u001b[0;32m    276\u001b[0m         \u001b[1;32mpass\u001b[0m\u001b[1;33m\u001b[0m\u001b[1;33m\u001b[0m\u001b[0m\n\u001b[0;32m    277\u001b[0m         \u001b[0mx\u001b[0m \u001b[1;33m=\u001b[0m \u001b[0mfeat\u001b[0m\u001b[1;33m\u001b[0m\u001b[1;33m\u001b[0m\u001b[0m\n\u001b[1;32m--> 278\u001b[1;33m         \u001b[0ma\u001b[0m \u001b[1;33m=\u001b[0m \u001b[1;36m0.5\u001b[0m \u001b[1;33m*\u001b[0m \u001b[1;33m(\u001b[0m\u001b[1;36m1\u001b[0m \u001b[1;33m+\u001b[0m \u001b[0mnp\u001b[0m\u001b[1;33m.\u001b[0m\u001b[0mtanh\u001b[0m\u001b[1;33m(\u001b[0m\u001b[0mnp\u001b[0m\u001b[1;33m.\u001b[0m\u001b[0msqrt\u001b[0m\u001b[1;33m(\u001b[0m\u001b[1;36m2\u001b[0m \u001b[1;33m/\u001b[0m \u001b[0mnp\u001b[0m\u001b[1;33m.\u001b[0m\u001b[0mpi\u001b[0m\u001b[1;33m)\u001b[0m \u001b[1;33m*\u001b[0m \u001b[1;33m(\u001b[0m\u001b[0mx\u001b[0m \u001b[1;33m+\u001b[0m \u001b[1;36m0.044715\u001b[0m \u001b[1;33m*\u001b[0m \u001b[0mnp\u001b[0m\u001b[1;33m.\u001b[0m\u001b[0mpower\u001b[0m\u001b[1;33m(\u001b[0m\u001b[0mx\u001b[0m\u001b[1;33m,\u001b[0m \u001b[1;36m3\u001b[0m\u001b[1;33m)\u001b[0m\u001b[1;33m)\u001b[0m\u001b[1;33m)\u001b[0m\u001b[1;33m)\u001b[0m\u001b[1;33m\u001b[0m\u001b[1;33m\u001b[0m\u001b[0m\n\u001b[0m\u001b[0;32m    279\u001b[0m         \u001b[0mb\u001b[0m \u001b[1;33m=\u001b[0m \u001b[0mnp\u001b[0m\u001b[1;33m.\u001b[0m\u001b[0mcosh\u001b[0m\u001b[1;33m(\u001b[0m\u001b[0mnp\u001b[0m\u001b[1;33m.\u001b[0m\u001b[0msqrt\u001b[0m\u001b[1;33m(\u001b[0m\u001b[1;36m2\u001b[0m \u001b[1;33m/\u001b[0m \u001b[0mnp\u001b[0m\u001b[1;33m.\u001b[0m\u001b[0mpi\u001b[0m\u001b[1;33m)\u001b[0m \u001b[1;33m*\u001b[0m \u001b[1;33m(\u001b[0m\u001b[0mx\u001b[0m \u001b[1;33m+\u001b[0m \u001b[1;36m0.044715\u001b[0m \u001b[1;33m*\u001b[0m \u001b[0mnp\u001b[0m\u001b[1;33m.\u001b[0m\u001b[0mpower\u001b[0m\u001b[1;33m(\u001b[0m\u001b[0mx\u001b[0m\u001b[1;33m,\u001b[0m \u001b[1;36m3\u001b[0m\u001b[1;33m)\u001b[0m\u001b[1;33m)\u001b[0m\u001b[1;33m)\u001b[0m\u001b[1;33m\u001b[0m\u001b[1;33m\u001b[0m\u001b[0m\n\u001b[0;32m    280\u001b[0m         \u001b[0mbinv\u001b[0m \u001b[1;33m=\u001b[0m \u001b[1;36m1\u001b[0m\u001b[1;33m/\u001b[0m\u001b[0mb\u001b[0m\u001b[1;33m\u001b[0m\u001b[1;33m\u001b[0m\u001b[0m\n",
      "\u001b[1;31mKeyboardInterrupt\u001b[0m: "
     ]
    }
   ],
   "source": [
    "reset_seed(seed=seed)\n",
    "model_sgd_l2     = FullyConnectedNetwork()\n",
    "loss_f_sgd_l2    = cross_entropy()\n",
    "optimizer_sgd_l2 = SGD(model_sgd_l2.net, 0.01)\n",
    "#####################################################################\n",
    "#### Find lambda for L2 regularization so that                   ####\n",
    "#### it achieves EXACTLY THE SAME learning curve as weight decay ####\n",
    "l2_lambda = None\n",
    "#####################################################################\n",
    "\n",
    "print (\"\\nTraining with SGD plus L2 Regularization...\")\n",
    "results_sgd_l2 = train_net(small_data_dict, model_sgd_l2, loss_f_sgd_l2, optimizer_sgd_l2, batch_size=100, \n",
    "                           max_epochs=50, show_every=10000, verbose=False, regularization=\"l2\", reg_lambda=l2_lambda)\n",
    "\n",
    "opt_params_sgd_l2, loss_hist_sgd_l2, train_acc_hist_sgd_l2, val_acc_hist_sgd_l2 = results_sgd_l2\n",
    "\n",
    "import pickle\n",
    "with open('results_sgd_l2.txt', 'wb') as f:\n",
    "    pickle.dump(results_sgd_l2,f)\n",
    "    \n",
    "plt.subplot(3, 1, 1)\n",
    "plt.title('Training loss')\n",
    "plt.xlabel('Iteration')\n",
    "\n",
    "plt.subplot(3, 1, 2)\n",
    "plt.title('Training accuracy')\n",
    "plt.xlabel('Epoch')\n",
    "\n",
    "plt.subplot(3, 1, 3)\n",
    "plt.title('Validation accuracy')\n",
    "plt.xlabel('Epoch')\n",
    "\n",
    "plt.subplot(3, 1, 1)\n",
    "plt.plot(loss_hist_sgdw, 'o', label=\"SGD with Weight Decay\")\n",
    "plt.subplot(3, 1, 2)\n",
    "plt.plot(train_acc_hist_sgdw, '-o', label=\"SGD with Weight Decay\")\n",
    "plt.subplot(3, 1, 3)\n",
    "plt.plot(val_acc_hist_sgdw, '-o', label=\"SGD with Weight Decay\")\n",
    "         \n",
    "plt.subplot(3, 1, 1)\n",
    "plt.plot(loss_hist_sgd_l1, 'o', label=\"SGD with L1 Regularization\")\n",
    "plt.subplot(3, 1, 2)\n",
    "plt.plot(train_acc_hist_sgd_l1, '-o', label=\"SGD with L1 Regularization\")\n",
    "plt.subplot(3, 1, 3)\n",
    "plt.plot(val_acc_hist_sgd_l1, '-o', label=\"SGD with L1 Regularization\")\n",
    "\n",
    "plt.subplot(3, 1, 1)\n",
    "plt.plot(loss_hist_sgd_l2, 'o', label=\"SGD with L2 Regularization\")\n",
    "plt.subplot(3, 1, 2)\n",
    "plt.plot(train_acc_hist_sgd_l2, '-o', label=\"SGD with L2 Regularization\")\n",
    "plt.subplot(3, 1, 3)\n",
    "plt.plot(val_acc_hist_sgd_l2, '-o', label=\"SGD with L2 Regularization\")\n",
    "  \n",
    "for i in [1, 2, 3]:\n",
    "  plt.subplot(3, 1, i)\n",
    "  plt.legend(loc='upper center', ncol=4)\n",
    "plt.gcf().set_size_inches(15, 15)\n",
    "plt.show()"
   ]
  },
  {
   "cell_type": "markdown",
   "metadata": {},
   "source": [
    "## Adam [2pt]\n",
    "The update rule of Adam is as shown below:  \n",
    "\\begin{align*}\n",
    "t &= t + 1 \\\\\n",
    "g_t &: \\text{gradients at update step } t \\\\\n",
    "m_t &= \\beta_1m_{t-1} + (1-\\beta_1)g_t \\\\\n",
    "v_t &= \\beta_2v_{t-1} + (1-\\beta_2)g_t^2 \\\\\n",
    "\\hat{m_t} &= m_t / (1 - \\beta_1^t) \\\\\n",
    "\\hat{v_t} &= v_t / (1 - \\beta_2^t) \\\\\n",
    "\\theta_{t+1} &= \\theta_t - \\frac{\\eta\\ \\hat{m_t}}{\\sqrt{\\hat{v_t}}+\\epsilon} \\\\\n",
    "\\end{align*}\n",
    "Complete the `Adam()` function in `lib/optim.py`\n",
    "Important Notes:\n",
    "1) $t$ must be updated before everything else\n",
    "2) $\\beta_1^t$ is $\\beta_1$ exponentiated to the $t$'th power\n",
    "3) You should also enable weight decay in Adam, similar to what you did in SGD"
   ]
  },
  {
   "cell_type": "code",
   "execution_count": null,
   "metadata": {},
   "outputs": [],
   "source": [
    "%reload_ext autoreload\n",
    "\n",
    "seed = 1234\n",
    "np.random.seed(seed=seed)\n",
    "\n",
    "# Test Adam implementation; you should see errors around 1e-7 or less\n",
    "N, D = 4, 5\n",
    "test_adam = sequential(fc(N, D, name=\"adam_fc\"))\n",
    "\n",
    "w = np.linspace(-0.4, 0.6, num=N*D).reshape(N, D)\n",
    "dw = np.linspace(-0.6, 0.4, num=N*D).reshape(N, D)\n",
    "m = np.linspace(0.6, 0.9, num=N*D).reshape(N, D)\n",
    "v = np.linspace(0.7, 0.5, num=N*D).reshape(N, D)\n",
    "\n",
    "test_adam.layers[0].params = {\"adam_fc_w\": w}\n",
    "test_adam.layers[0].grads = {\"adam_fc_w\": dw}\n",
    "\n",
    "opt_adam = Adam(test_adam, 1e-2, 0.9, 0.999, t=5)\n",
    "opt_adam.mt = {\"adam_fc_w\": m}\n",
    "opt_adam.vt = {\"adam_fc_w\": v}\n",
    "opt_adam.step()\n",
    "\n",
    "updated_w = test_adam.layers[0].params[\"adam_fc_w\"]\n",
    "mt = opt_adam.mt[\"adam_fc_w\"]\n",
    "vt = opt_adam.vt[\"adam_fc_w\"]\n",
    "\n",
    "expected_updated_w = np.asarray([\n",
    "  [-0.40094747, -0.34836187, -0.29577703, -0.24319299, -0.19060977],\n",
    "  [-0.1380274,  -0.08544591, -0.03286534,  0.01971428,  0.0722929],\n",
    "  [ 0.1248705,   0.17744702,  0.23002243,  0.28259667,  0.33516969],\n",
    "  [ 0.38774145,  0.44031188,  0.49288093,  0.54544852,  0.59801459]])\n",
    "expected_v = np.asarray([\n",
    "  [ 0.69966,     0.68908382,  0.67851319,  0.66794809,  0.65738853,],\n",
    "  [ 0.64683452,  0.63628604,  0.6257431,   0.61520571,  0.60467385,],\n",
    "  [ 0.59414753,  0.58362676,  0.57311152,  0.56260183,  0.55209767,],\n",
    "  [ 0.54159906,  0.53110598,  0.52061845,  0.51013645,  0.49966,   ]])\n",
    "expected_m = np.asarray([\n",
    "  [ 0.48,        0.49947368,  0.51894737,  0.53842105,  0.55789474],\n",
    "  [ 0.57736842,  0.59684211,  0.61631579,  0.63578947,  0.65526316],\n",
    "  [ 0.67473684,  0.69421053,  0.71368421,  0.73315789,  0.75263158],\n",
    "  [ 0.77210526,  0.79157895,  0.81105263,  0.83052632,  0.85      ]])\n",
    "\n",
    "print ('The following errors should be around or less than 1e-7')\n",
    "print ('updated_w error: ', rel_error(expected_updated_w, updated_w))\n",
    "print ('mt error: ', rel_error(expected_m, mt))\n",
    "print ('vt error: ', rel_error(expected_v, vt))"
   ]
  },
  {
   "cell_type": "code",
   "execution_count": null,
   "metadata": {},
   "outputs": [],
   "source": [
    "print(updated_w,'\\n\\n',vt,'\\n\\n',mt)"
   ]
  },
  {
   "cell_type": "markdown",
   "metadata": {},
   "source": [
    "## Comparing the Weight Decay v.s. L2 Regularization in Adam [5pt]\n",
    "Run the following code block to compare the plotted results between effects of weight decay and L2 regularization on Adam. Are they still the same? (we can make them the same as in SGD, can we also do it in Adam?)"
   ]
  },
  {
   "cell_type": "code",
   "execution_count": null,
   "metadata": {},
   "outputs": [],
   "source": [
    "seed = 1234\n",
    "reset_seed(seed)\n",
    "model_adam_wd      = FullyConnectedNetwork()\n",
    "loss_f_adam_wd     = cross_entropy()\n",
    "optimizer_adam_wd  = Adam(model_adam_wd.net, lr=1e-4, weight_decay=1e-6)\n",
    "\n",
    "\n",
    "print (\"Training with AdamW...\")\n",
    "results_adam_wd = train_net(small_data_dict, model_adam_wd, loss_f_adam_wd, optimizer_adam_wd, batch_size=100, \n",
    "                        max_epochs=50, show_every=10000, verbose=False)\n",
    "\n",
    "import pickle\n",
    "with open('results_adam_wd.txt', 'wb') as f:\n",
    "    pickle.dump(results_adam_wd,f)\n",
    "\n",
    "reset_seed(seed)\n",
    "model_adam_l2      = FullyConnectedNetwork()\n",
    "loss_f_adam_l2     = cross_entropy()\n",
    "optimizer_adam_l2 = Adam(model_adam_l2.net, lr=1e-4)\n",
    "reg_lambda_l2 = 1e-4\n",
    "print (\"\\nTraining with Adam + L2...\")\n",
    "results_adam_l2 = train_net(small_data_dict, model_adam_l2, loss_f_adam_l2, optimizer_adam_l2, batch_size=100, \n",
    "                         max_epochs=50, show_every=10000, verbose=False, regularization='l2', reg_lambda=reg_lambda_l2)\n",
    "\n",
    "import pickle\n",
    "with open('results_adam_l2.txt', 'wb') as f:\n",
    "    pickle.dump(results_adam_l2,f)\n",
    "    \n",
    "opt_params_adam_wd, loss_hist_adam_wd, train_acc_hist_adam_wd, val_acc_hist_adam_wd  = results_adam_wd\n",
    "opt_params_adam_l2, loss_hist_adam_l2, train_acc_hist_adam_l2, val_acc_hist_adam_l2 = results_adam_l2\n",
    "\n",
    "plt.subplot(3, 1, 1)\n",
    "plt.title('Training loss')\n",
    "plt.xlabel('Iteration')\n",
    "\n",
    "plt.subplot(3, 1, 2)\n",
    "plt.title('Training accuracy')\n",
    "plt.xlabel('Epoch')\n",
    "\n",
    "plt.subplot(3, 1, 3)\n",
    "plt.title('Validation accuracy')\n",
    "plt.xlabel('Epoch')\n",
    "\n",
    "plt.subplot(3, 1, 1)\n",
    "plt.plot(loss_hist_sgd, 'o', label=\"Vanilla SGD\")\n",
    "plt.subplot(3, 1, 2)\n",
    "plt.plot(train_acc_hist_sgd, '-o', label=\"Vanilla SGD\")\n",
    "plt.subplot(3, 1, 3)\n",
    "plt.plot(val_acc_hist_sgd, '-o', label=\"Vanilla SGD\")\n",
    "         \n",
    "plt.subplot(3, 1, 1)\n",
    "plt.plot(loss_hist_sgdw, 'o', label=\"SGD with Weight Decay\")\n",
    "plt.subplot(3, 1, 2)\n",
    "plt.plot(train_acc_hist_sgdw, '-o', label=\"SGD with Weight Decay\")\n",
    "plt.subplot(3, 1, 3)\n",
    "plt.plot(val_acc_hist_sgdw, '-o', label=\"SGD with Weight Decay\")\n",
    "\n",
    "plt.subplot(3, 1, 1)\n",
    "plt.plot(loss_hist_adam_wd, 'o', label=\"Adam with Weight Decay\")\n",
    "plt.subplot(3, 1, 2)\n",
    "plt.plot(train_acc_hist_adam_wd, '-o', label=\"Adam with Weight Decay\")\n",
    "plt.subplot(3, 1, 3)\n",
    "plt.plot(val_acc_hist_adam_wd, '-o', label=\"Adam with Weight Decay\")\n",
    "         \n",
    "plt.subplot(3, 1, 1)\n",
    "plt.plot(loss_hist_adam_l2, 'o', label=\"Adam with L2\")\n",
    "plt.subplot(3, 1, 2)\n",
    "plt.plot(train_acc_hist_adam_l2, '-o', label=\"Adam with L2\")\n",
    "plt.subplot(3, 1, 3)\n",
    "plt.plot(val_acc_hist_adam_l2, '-o', label=\"Adam with L2\")\n",
    "  \n",
    "for i in [1, 2, 3]:\n",
    "  plt.subplot(3, 1, i)\n",
    "  plt.legend(loc='upper center', ncol=4)\n",
    "plt.gcf().set_size_inches(15, 15)\n",
    "plt.show()"
   ]
  },
  {
   "cell_type": "code",
   "execution_count": 6,
   "metadata": {},
   "outputs": [
    {
     "ename": "EOFError",
     "evalue": "Ran out of input",
     "output_type": "error",
     "traceback": [
      "\u001b[1;31m---------------------------------------------------------------------------\u001b[0m",
      "\u001b[1;31mEOFError\u001b[0m                                  Traceback (most recent call last)",
      "\u001b[1;32m~\\AppData\\Local\\Temp\\ipykernel_796\\2310822204.py\u001b[0m in \u001b[0;36m<module>\u001b[1;34m\u001b[0m\n\u001b[0;32m      5\u001b[0m     \u001b[0mresults_sgd\u001b[0m \u001b[1;33m=\u001b[0m \u001b[0mpickle\u001b[0m\u001b[1;33m.\u001b[0m\u001b[0mload\u001b[0m\u001b[1;33m(\u001b[0m\u001b[0mf\u001b[0m\u001b[1;33m)\u001b[0m\u001b[1;33m\u001b[0m\u001b[1;33m\u001b[0m\u001b[0m\n\u001b[0;32m      6\u001b[0m \u001b[1;32mwith\u001b[0m \u001b[0mopen\u001b[0m\u001b[1;33m(\u001b[0m\u001b[1;34m'results_sgdw.txt'\u001b[0m\u001b[1;33m,\u001b[0m \u001b[1;34m'rb'\u001b[0m\u001b[1;33m)\u001b[0m \u001b[1;32mas\u001b[0m \u001b[0mf\u001b[0m\u001b[1;33m:\u001b[0m\u001b[1;33m\u001b[0m\u001b[1;33m\u001b[0m\u001b[0m\n\u001b[1;32m----> 7\u001b[1;33m     \u001b[0mresults_sgdw\u001b[0m \u001b[1;33m=\u001b[0m \u001b[0mpickle\u001b[0m\u001b[1;33m.\u001b[0m\u001b[0mload\u001b[0m\u001b[1;33m(\u001b[0m\u001b[0mf\u001b[0m\u001b[1;33m)\u001b[0m\u001b[1;33m\u001b[0m\u001b[1;33m\u001b[0m\u001b[0m\n\u001b[0m\u001b[0;32m      8\u001b[0m \u001b[1;33m\u001b[0m\u001b[0m\n\u001b[0;32m      9\u001b[0m \u001b[1;32mfrom\u001b[0m \u001b[0mnbconvert\u001b[0m \u001b[1;32mimport\u001b[0m \u001b[0mHTMLExporter\u001b[0m\u001b[1;33m\u001b[0m\u001b[1;33m\u001b[0m\u001b[0m\n",
      "\u001b[1;31mEOFError\u001b[0m: Ran out of input"
     ]
    }
   ],
   "source": [
    "import pickle\n",
    "with open('results_sgd_l1.txt', 'rb') as f:\n",
    "    results_sgd_l1 = pickle.load(f)\n",
    "with open('results_sgd.txt', 'rb') as f:\n",
    "    results_sgd = pickle.load(f)\n",
    "with open('results_sgdw.txt', 'rb') as f:\n",
    "    results_sgdw = pickle.load(f)\n",
    "with open('results_sgd_l2.txt', 'rb') as f:\n",
    "    results_sgd_l2 = pickle.load(f)\n",
    "with open('results_adam_wd.txt', 'rb') as f:\n",
    "    results_adam_wd = pickle.load(f)\n",
    "with open('results_adam_l2.txt', 'rb') as f:\n",
    "    results_adam_l2 = pickle.load(f)\n",
    "    \n",
    "from nbconvert import HTMLExporter\n",
    "import codecs\n",
    "import nbformat\n",
    "\n",
    "notebook_name = 'Problem_1.ipynb'\n",
    "output_file_name = 'output_prob_1.html'\n",
    "\n",
    "exporter = HTMLExporter()\n",
    "output_notebook = nbformat.read(notebook_name, as_version=4)\n",
    "\n",
    "output, resources = exporter.from_notebook_node(output_notebook)\n",
    "codecs.open(output_file_name, 'w', encoding='utf-8').write(output)\n"
   ]
  },
  {
   "cell_type": "markdown",
   "metadata": {},
   "source": [
    "# Submission\n",
    "\n",
    "Please prepare a PDF document `problem_1_solution.pdf` in the root directory of this repository with all plots and inline answers of your solution. Concretely, the document should contain the following items in strict order:\n",
    "1. Training loss / accuracy curves for the simple neural network training with > 30% validation accuracy\n",
    "2. Plots for comparing vanilla SGD to SGD + Weight Decay, SGD + L1 and SGD + L2\n",
    "3. \"Comparing different Regularizations\" plots\n",
    "\n",
    "Note that you still need to submit the jupyter notebook with all generated solutions. We will randomly pick submissions and check that the plots in the PDF and in the notebook are equivalent."
   ]
  }
 ],
 "metadata": {
  "kernelspec": {
   "display_name": "Python 3 (ipykernel)",
   "language": "python",
   "name": "python3"
  },
  "language_info": {
   "codemirror_mode": {
    "name": "ipython",
    "version": 3
   },
   "file_extension": ".py",
   "mimetype": "text/x-python",
   "name": "python",
   "nbconvert_exporter": "python",
   "pygments_lexer": "ipython3",
   "version": "3.9.13"
  },
  "vscode": {
   "interpreter": {
    "hash": "31f2aee4e71d21fbe5cf8b01ff0e069b9275f58929596ceb00d14d90e3e16cd6"
   }
  }
 },
 "nbformat": 4,
 "nbformat_minor": 1
}
